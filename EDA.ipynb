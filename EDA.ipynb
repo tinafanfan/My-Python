{
  "nbformat": 4,
  "nbformat_minor": 0,
  "metadata": {
    "colab": {
      "provenance": [],
      "toc_visible": true,
      "mount_file_id": "18PUo69_NjWuWMy7uenpDHLqj8KmAs_l9",
      "authorship_tag": "ABX9TyPuG07HUN2oisZj0l83KyKp"
    },
    "kernelspec": {
      "name": "python3",
      "display_name": "Python 3"
    },
    "language_info": {
      "name": "python"
    }
  },
  "cells": [
    {
      "cell_type": "markdown",
      "source": [
        "[https://colab.research.google.com/drive/18PUo69_NjWuWMy7uenpDHLqj8KmAs_l9?authuser=2#scrollTo=3vUXPjDe1j_i](https://colab.research.google.com/drive/18PUo69_NjWuWMy7uenpDHLqj8KmAs_l9?authuser=2#scrollTo=3vUXPjDe1j_i)"
      ],
      "metadata": {
        "id": "1xJBIi6Md2uS"
      }
    },
    {
      "cell_type": "code",
      "execution_count": 1,
      "metadata": {
        "id": "vu3BKK_KjAnN"
      },
      "outputs": [],
      "source": [
        "import pandas as pd\n",
        "import numpy as np\n",
        "import matplotlib.pyplot as plt\n",
        "import seaborn as sns\n"
      ]
    },
    {
      "cell_type": "code",
      "source": [
        "# Colab 進行 matplotlib 繪圖時顯示繁體中文\n",
        "# 下載台北思源黑體並命名taipei_sans_tc_beta.ttf，移至指定路徑\n",
        "!wget -O TaipeiSansTCBeta-Regular.ttf https://drive.google.com/uc?id=1eGAsTN1HBpJAkeVM57_C7ccp7hbgSz3_&export=download\n",
        "\n",
        "import matplotlib as mpl\n",
        "import matplotlib.pyplot as plt\n",
        "from matplotlib.font_manager import fontManager\n",
        "\n",
        "# 改style要在改font之前\n",
        "# plt.style.use('seaborn')\n",
        "\n",
        "fontManager.addfont('TaipeiSansTCBeta-Regular.ttf')\n",
        "mpl.rc('font', family='Taipei Sans TC Beta')"
      ],
      "metadata": {
        "colab": {
          "base_uri": "https://localhost:8080/"
        },
        "id": "7IJj69CHtKBS",
        "outputId": "839c2299-5c1d-40bf-b015-5e8ddf56f7a8"
      },
      "execution_count": 2,
      "outputs": [
        {
          "output_type": "stream",
          "name": "stdout",
          "text": [
            "--2023-09-03 04:17:02--  https://drive.google.com/uc?id=1eGAsTN1HBpJAkeVM57_C7ccp7hbgSz3_\n",
            "Resolving drive.google.com (drive.google.com)... 74.125.23.138, 74.125.23.113, 74.125.23.101, ...\n",
            "Connecting to drive.google.com (drive.google.com)|74.125.23.138|:443... connected.\n",
            "HTTP request sent, awaiting response... 303 See Other\n",
            "Location: https://doc-0k-9o-docs.googleusercontent.com/docs/securesc/ha0ro937gcuc7l7deffksulhg5h7mbp1/j717ess11nht6fc0o3o8a1hvevphrs3g/1693714575000/02847987870453524430/*/1eGAsTN1HBpJAkeVM57_C7ccp7hbgSz3_?uuid=d14f39c1-704f-4a8c-b6e5-0e76158710ed [following]\n",
            "Warning: wildcards not supported in HTTP.\n",
            "--2023-09-03 04:17:07--  https://doc-0k-9o-docs.googleusercontent.com/docs/securesc/ha0ro937gcuc7l7deffksulhg5h7mbp1/j717ess11nht6fc0o3o8a1hvevphrs3g/1693714575000/02847987870453524430/*/1eGAsTN1HBpJAkeVM57_C7ccp7hbgSz3_?uuid=d14f39c1-704f-4a8c-b6e5-0e76158710ed\n",
            "Resolving doc-0k-9o-docs.googleusercontent.com (doc-0k-9o-docs.googleusercontent.com)... 173.194.174.132, 2404:6800:4008:c1b::84\n",
            "Connecting to doc-0k-9o-docs.googleusercontent.com (doc-0k-9o-docs.googleusercontent.com)|173.194.174.132|:443... connected.\n",
            "HTTP request sent, awaiting response... 200 OK\n",
            "Length: 20659344 (20M) [application/x-font-ttf]\n",
            "Saving to: ‘TaipeiSansTCBeta-Regular.ttf’\n",
            "\n",
            "TaipeiSansTCBeta-Re 100%[===================>]  19.70M  56.7MB/s    in 0.3s    \n",
            "\n",
            "2023-09-03 04:17:07 (56.7 MB/s) - ‘TaipeiSansTCBeta-Regular.ttf’ saved [20659344/20659344]\n",
            "\n"
          ]
        }
      ]
    },
    {
      "cell_type": "markdown",
      "source": [
        "# Read data"
      ],
      "metadata": {
        "id": "WtYu-4qraBkI"
      }
    },
    {
      "cell_type": "code",
      "source": [
        "data_df = pd.read_csv('/content/drive/MyDrive/2023_DA_military/dispPtV2_20AUG.csv')"
      ],
      "metadata": {
        "id": "RL67lmtZMtz6"
      },
      "execution_count": 47,
      "outputs": []
    },
    {
      "cell_type": "code",
      "source": [
        "data_df.iloc[0:1,:]"
      ],
      "metadata": {
        "colab": {
          "base_uri": "https://localhost:8080/",
          "height": 341
        },
        "id": "WE3dfB4JSUQw",
        "outputId": "f41ae4b0-3547-47c2-bb7e-d69f09bdc027"
      },
      "execution_count": 50,
      "outputs": [
        {
          "output_type": "execute_result",
          "data": {
            "text/plain": [
              "  Banner Person Era YoE Loc1st  Loc2nd               Section  Page  \\\n",
              "0    鑲黃旗    楊名高  崇德  七年     塔山  ['諸臺']  八旗通志初集卷之一百七十三名臣列傳三十三  4210   \n",
              "\n",
              "                                                text Loc        lat  \\\n",
              "0  崇德七年，任牛彔章京，隨固山額真劉之源征明圍錦州，擊敗山口敵兵。又用紅衣炮攻克塔山城，並收附...  塔山  40.821941   \n",
              "\n",
              "          lon  year  \n",
              "0  120.935895  1642  "
            ],
            "text/html": [
              "\n",
              "  <div id=\"df-9dd82c8c-b65e-4a2a-8dcd-d32423f84fe2\" class=\"colab-df-container\">\n",
              "    <div>\n",
              "<style scoped>\n",
              "    .dataframe tbody tr th:only-of-type {\n",
              "        vertical-align: middle;\n",
              "    }\n",
              "\n",
              "    .dataframe tbody tr th {\n",
              "        vertical-align: top;\n",
              "    }\n",
              "\n",
              "    .dataframe thead th {\n",
              "        text-align: right;\n",
              "    }\n",
              "</style>\n",
              "<table border=\"1\" class=\"dataframe\">\n",
              "  <thead>\n",
              "    <tr style=\"text-align: right;\">\n",
              "      <th></th>\n",
              "      <th>Banner</th>\n",
              "      <th>Person</th>\n",
              "      <th>Era</th>\n",
              "      <th>YoE</th>\n",
              "      <th>Loc1st</th>\n",
              "      <th>Loc2nd</th>\n",
              "      <th>Section</th>\n",
              "      <th>Page</th>\n",
              "      <th>text</th>\n",
              "      <th>Loc</th>\n",
              "      <th>lat</th>\n",
              "      <th>lon</th>\n",
              "      <th>year</th>\n",
              "    </tr>\n",
              "  </thead>\n",
              "  <tbody>\n",
              "    <tr>\n",
              "      <th>0</th>\n",
              "      <td>鑲黃旗</td>\n",
              "      <td>楊名高</td>\n",
              "      <td>崇德</td>\n",
              "      <td>七年</td>\n",
              "      <td>塔山</td>\n",
              "      <td>['諸臺']</td>\n",
              "      <td>八旗通志初集卷之一百七十三名臣列傳三十三</td>\n",
              "      <td>4210</td>\n",
              "      <td>崇德七年，任牛彔章京，隨固山額真劉之源征明圍錦州，擊敗山口敵兵。又用紅衣炮攻克塔山城，並收附...</td>\n",
              "      <td>塔山</td>\n",
              "      <td>40.821941</td>\n",
              "      <td>120.935895</td>\n",
              "      <td>1642</td>\n",
              "    </tr>\n",
              "  </tbody>\n",
              "</table>\n",
              "</div>\n",
              "    <div class=\"colab-df-buttons\">\n",
              "\n",
              "  <div class=\"colab-df-container\">\n",
              "    <button class=\"colab-df-convert\" onclick=\"convertToInteractive('df-9dd82c8c-b65e-4a2a-8dcd-d32423f84fe2')\"\n",
              "            title=\"Convert this dataframe to an interactive table.\"\n",
              "            style=\"display:none;\">\n",
              "\n",
              "  <svg xmlns=\"http://www.w3.org/2000/svg\" height=\"24px\" viewBox=\"0 -960 960 960\">\n",
              "    <path d=\"M120-120v-720h720v720H120Zm60-500h600v-160H180v160Zm220 220h160v-160H400v160Zm0 220h160v-160H400v160ZM180-400h160v-160H180v160Zm440 0h160v-160H620v160ZM180-180h160v-160H180v160Zm440 0h160v-160H620v160Z\"/>\n",
              "  </svg>\n",
              "    </button>\n",
              "\n",
              "  <style>\n",
              "    .colab-df-container {\n",
              "      display:flex;\n",
              "      gap: 12px;\n",
              "    }\n",
              "\n",
              "    .colab-df-convert {\n",
              "      background-color: #E8F0FE;\n",
              "      border: none;\n",
              "      border-radius: 50%;\n",
              "      cursor: pointer;\n",
              "      display: none;\n",
              "      fill: #1967D2;\n",
              "      height: 32px;\n",
              "      padding: 0 0 0 0;\n",
              "      width: 32px;\n",
              "    }\n",
              "\n",
              "    .colab-df-convert:hover {\n",
              "      background-color: #E2EBFA;\n",
              "      box-shadow: 0px 1px 2px rgba(60, 64, 67, 0.3), 0px 1px 3px 1px rgba(60, 64, 67, 0.15);\n",
              "      fill: #174EA6;\n",
              "    }\n",
              "\n",
              "    .colab-df-buttons div {\n",
              "      margin-bottom: 4px;\n",
              "    }\n",
              "\n",
              "    [theme=dark] .colab-df-convert {\n",
              "      background-color: #3B4455;\n",
              "      fill: #D2E3FC;\n",
              "    }\n",
              "\n",
              "    [theme=dark] .colab-df-convert:hover {\n",
              "      background-color: #434B5C;\n",
              "      box-shadow: 0px 1px 3px 1px rgba(0, 0, 0, 0.15);\n",
              "      filter: drop-shadow(0px 1px 2px rgba(0, 0, 0, 0.3));\n",
              "      fill: #FFFFFF;\n",
              "    }\n",
              "  </style>\n",
              "\n",
              "    <script>\n",
              "      const buttonEl =\n",
              "        document.querySelector('#df-9dd82c8c-b65e-4a2a-8dcd-d32423f84fe2 button.colab-df-convert');\n",
              "      buttonEl.style.display =\n",
              "        google.colab.kernel.accessAllowed ? 'block' : 'none';\n",
              "\n",
              "      async function convertToInteractive(key) {\n",
              "        const element = document.querySelector('#df-9dd82c8c-b65e-4a2a-8dcd-d32423f84fe2');\n",
              "        const dataTable =\n",
              "          await google.colab.kernel.invokeFunction('convertToInteractive',\n",
              "                                                    [key], {});\n",
              "        if (!dataTable) return;\n",
              "\n",
              "        const docLinkHtml = 'Like what you see? Visit the ' +\n",
              "          '<a target=\"_blank\" href=https://colab.research.google.com/notebooks/data_table.ipynb>data table notebook</a>'\n",
              "          + ' to learn more about interactive tables.';\n",
              "        element.innerHTML = '';\n",
              "        dataTable['output_type'] = 'display_data';\n",
              "        await google.colab.output.renderOutput(dataTable, element);\n",
              "        const docLink = document.createElement('div');\n",
              "        docLink.innerHTML = docLinkHtml;\n",
              "        element.appendChild(docLink);\n",
              "      }\n",
              "    </script>\n",
              "  </div>\n",
              "\n",
              "    </div>\n",
              "  </div>\n"
            ]
          },
          "metadata": {},
          "execution_count": 50
        }
      ]
    },
    {
      "cell_type": "markdown",
      "source": [
        "## 調整格式"
      ],
      "metadata": {
        "id": "0NougGgcdmYm"
      }
    },
    {
      "cell_type": "code",
      "source": [
        "data_df = data_df.sort_values(by='year') # sort the rows by year"
      ],
      "metadata": {
        "id": "90qjCCfQdQ8c"
      },
      "execution_count": 52,
      "outputs": []
    },
    {
      "cell_type": "markdown",
      "source": [
        "# Data overview"
      ],
      "metadata": {
        "id": "DREYdmU9l_8m"
      }
    },
    {
      "cell_type": "code",
      "source": [
        "data_df.iloc[0:2,]"
      ],
      "metadata": {
        "colab": {
          "base_uri": "https://localhost:8080/",
          "height": 633
        },
        "id": "3awIc_JKJbZ7",
        "outputId": "62505dc7-2520-430a-fe20-5d9c15495d6f"
      },
      "execution_count": null,
      "outputs": [
        {
          "output_type": "execute_result",
          "data": {
            "text/plain": [
              "  Banner Person Era YoE Loc1st  Loc2nd               Section  Page  \\\n",
              "0    鑲黃旗    楊名高  崇德  七年     塔山  ['諸臺']  八旗通志初集卷之一百七十三名臣列傳三十三  4210   \n",
              "1    鑲黃旗    楊名高  崇德  七年     杏山  ['諸臺']  八旗通志初集卷之一百七十三名臣列傳三十三  4210   \n",
              "\n",
              "                                                text Loc        lat  \\\n",
              "0  崇德七年，任牛彔章京，隨固山額真劉之源征明圍錦州，擊敗山口敵兵。又用紅衣炮攻克塔山城，並收附...  塔山  40.821941   \n",
              "1  崇德七年，任牛彔章京，隨固山額真劉之源征明圍錦州，擊敗山口敵兵。又用紅衣炮攻克塔山城，並收附...  杏山  40.951450   \n",
              "\n",
              "          lon  year  \n",
              "0  120.935895  1642  \n",
              "1  121.081665  1642  "
            ],
            "text/html": [
              "\n",
              "  <div id=\"df-8bcf8423-1e2d-41bb-8575-3f74db326c79\" class=\"colab-df-container\">\n",
              "    <div>\n",
              "<style scoped>\n",
              "    .dataframe tbody tr th:only-of-type {\n",
              "        vertical-align: middle;\n",
              "    }\n",
              "\n",
              "    .dataframe tbody tr th {\n",
              "        vertical-align: top;\n",
              "    }\n",
              "\n",
              "    .dataframe thead th {\n",
              "        text-align: right;\n",
              "    }\n",
              "</style>\n",
              "<table border=\"1\" class=\"dataframe\">\n",
              "  <thead>\n",
              "    <tr style=\"text-align: right;\">\n",
              "      <th></th>\n",
              "      <th>Banner</th>\n",
              "      <th>Person</th>\n",
              "      <th>Era</th>\n",
              "      <th>YoE</th>\n",
              "      <th>Loc1st</th>\n",
              "      <th>Loc2nd</th>\n",
              "      <th>Section</th>\n",
              "      <th>Page</th>\n",
              "      <th>text</th>\n",
              "      <th>Loc</th>\n",
              "      <th>lat</th>\n",
              "      <th>lon</th>\n",
              "      <th>year</th>\n",
              "    </tr>\n",
              "  </thead>\n",
              "  <tbody>\n",
              "    <tr>\n",
              "      <th>0</th>\n",
              "      <td>鑲黃旗</td>\n",
              "      <td>楊名高</td>\n",
              "      <td>崇德</td>\n",
              "      <td>七年</td>\n",
              "      <td>塔山</td>\n",
              "      <td>['諸臺']</td>\n",
              "      <td>八旗通志初集卷之一百七十三名臣列傳三十三</td>\n",
              "      <td>4210</td>\n",
              "      <td>崇德七年，任牛彔章京，隨固山額真劉之源征明圍錦州，擊敗山口敵兵。又用紅衣炮攻克塔山城，並收附...</td>\n",
              "      <td>塔山</td>\n",
              "      <td>40.821941</td>\n",
              "      <td>120.935895</td>\n",
              "      <td>1642</td>\n",
              "    </tr>\n",
              "    <tr>\n",
              "      <th>1</th>\n",
              "      <td>鑲黃旗</td>\n",
              "      <td>楊名高</td>\n",
              "      <td>崇德</td>\n",
              "      <td>七年</td>\n",
              "      <td>杏山</td>\n",
              "      <td>['諸臺']</td>\n",
              "      <td>八旗通志初集卷之一百七十三名臣列傳三十三</td>\n",
              "      <td>4210</td>\n",
              "      <td>崇德七年，任牛彔章京，隨固山額真劉之源征明圍錦州，擊敗山口敵兵。又用紅衣炮攻克塔山城，並收附...</td>\n",
              "      <td>杏山</td>\n",
              "      <td>40.951450</td>\n",
              "      <td>121.081665</td>\n",
              "      <td>1642</td>\n",
              "    </tr>\n",
              "  </tbody>\n",
              "</table>\n",
              "</div>\n",
              "    <div class=\"colab-df-buttons\">\n",
              "\n",
              "  <div class=\"colab-df-container\">\n",
              "    <button class=\"colab-df-convert\" onclick=\"convertToInteractive('df-8bcf8423-1e2d-41bb-8575-3f74db326c79')\"\n",
              "            title=\"Convert this dataframe to an interactive table.\"\n",
              "            style=\"display:none;\">\n",
              "\n",
              "  <svg xmlns=\"http://www.w3.org/2000/svg\" height=\"24px\" viewBox=\"0 -960 960 960\">\n",
              "    <path d=\"M120-120v-720h720v720H120Zm60-500h600v-160H180v160Zm220 220h160v-160H400v160Zm0 220h160v-160H400v160ZM180-400h160v-160H180v160Zm440 0h160v-160H620v160ZM180-180h160v-160H180v160Zm440 0h160v-160H620v160Z\"/>\n",
              "  </svg>\n",
              "    </button>\n",
              "\n",
              "  <style>\n",
              "    .colab-df-container {\n",
              "      display:flex;\n",
              "      gap: 12px;\n",
              "    }\n",
              "\n",
              "    .colab-df-convert {\n",
              "      background-color: #E8F0FE;\n",
              "      border: none;\n",
              "      border-radius: 50%;\n",
              "      cursor: pointer;\n",
              "      display: none;\n",
              "      fill: #1967D2;\n",
              "      height: 32px;\n",
              "      padding: 0 0 0 0;\n",
              "      width: 32px;\n",
              "    }\n",
              "\n",
              "    .colab-df-convert:hover {\n",
              "      background-color: #E2EBFA;\n",
              "      box-shadow: 0px 1px 2px rgba(60, 64, 67, 0.3), 0px 1px 3px 1px rgba(60, 64, 67, 0.15);\n",
              "      fill: #174EA6;\n",
              "    }\n",
              "\n",
              "    .colab-df-buttons div {\n",
              "      margin-bottom: 4px;\n",
              "    }\n",
              "\n",
              "    [theme=dark] .colab-df-convert {\n",
              "      background-color: #3B4455;\n",
              "      fill: #D2E3FC;\n",
              "    }\n",
              "\n",
              "    [theme=dark] .colab-df-convert:hover {\n",
              "      background-color: #434B5C;\n",
              "      box-shadow: 0px 1px 3px 1px rgba(0, 0, 0, 0.15);\n",
              "      filter: drop-shadow(0px 1px 2px rgba(0, 0, 0, 0.3));\n",
              "      fill: #FFFFFF;\n",
              "    }\n",
              "  </style>\n",
              "\n",
              "    <script>\n",
              "      const buttonEl =\n",
              "        document.querySelector('#df-8bcf8423-1e2d-41bb-8575-3f74db326c79 button.colab-df-convert');\n",
              "      buttonEl.style.display =\n",
              "        google.colab.kernel.accessAllowed ? 'block' : 'none';\n",
              "\n",
              "      async function convertToInteractive(key) {\n",
              "        const element = document.querySelector('#df-8bcf8423-1e2d-41bb-8575-3f74db326c79');\n",
              "        const dataTable =\n",
              "          await google.colab.kernel.invokeFunction('convertToInteractive',\n",
              "                                                    [key], {});\n",
              "        if (!dataTable) return;\n",
              "\n",
              "        const docLinkHtml = 'Like what you see? Visit the ' +\n",
              "          '<a target=\"_blank\" href=https://colab.research.google.com/notebooks/data_table.ipynb>data table notebook</a>'\n",
              "          + ' to learn more about interactive tables.';\n",
              "        element.innerHTML = '';\n",
              "        dataTable['output_type'] = 'display_data';\n",
              "        await google.colab.output.renderOutput(dataTable, element);\n",
              "        const docLink = document.createElement('div');\n",
              "        docLink.innerHTML = docLinkHtml;\n",
              "        element.appendChild(docLink);\n",
              "      }\n",
              "    </script>\n",
              "  </div>\n",
              "\n",
              "\n",
              "<div id=\"df-8ff7c8d0-1031-4b48-943c-7fd8247ade6c\">\n",
              "  <button class=\"colab-df-quickchart\" onclick=\"quickchart('df-8ff7c8d0-1031-4b48-943c-7fd8247ade6c')\"\n",
              "            title=\"Suggest charts.\"\n",
              "            style=\"display:none;\">\n",
              "\n",
              "<svg xmlns=\"http://www.w3.org/2000/svg\" height=\"24px\"viewBox=\"0 0 24 24\"\n",
              "     width=\"24px\">\n",
              "    <g>\n",
              "        <path d=\"M19 3H5c-1.1 0-2 .9-2 2v14c0 1.1.9 2 2 2h14c1.1 0 2-.9 2-2V5c0-1.1-.9-2-2-2zM9 17H7v-7h2v7zm4 0h-2V7h2v10zm4 0h-2v-4h2v4z\"/>\n",
              "    </g>\n",
              "</svg>\n",
              "  </button>\n",
              "\n",
              "<style>\n",
              "  .colab-df-quickchart {\n",
              "    background-color: #E8F0FE;\n",
              "    border: none;\n",
              "    border-radius: 50%;\n",
              "    cursor: pointer;\n",
              "    display: none;\n",
              "    fill: #1967D2;\n",
              "    height: 32px;\n",
              "    padding: 0 0 0 0;\n",
              "    width: 32px;\n",
              "  }\n",
              "\n",
              "  .colab-df-quickchart:hover {\n",
              "    background-color: #E2EBFA;\n",
              "    box-shadow: 0px 1px 2px rgba(60, 64, 67, 0.3), 0px 1px 3px 1px rgba(60, 64, 67, 0.15);\n",
              "    fill: #174EA6;\n",
              "  }\n",
              "\n",
              "  [theme=dark] .colab-df-quickchart {\n",
              "    background-color: #3B4455;\n",
              "    fill: #D2E3FC;\n",
              "  }\n",
              "\n",
              "  [theme=dark] .colab-df-quickchart:hover {\n",
              "    background-color: #434B5C;\n",
              "    box-shadow: 0px 1px 3px 1px rgba(0, 0, 0, 0.15);\n",
              "    filter: drop-shadow(0px 1px 2px rgba(0, 0, 0, 0.3));\n",
              "    fill: #FFFFFF;\n",
              "  }\n",
              "</style>\n",
              "\n",
              "  <script>\n",
              "    async function quickchart(key) {\n",
              "      const charts = await google.colab.kernel.invokeFunction(\n",
              "          'suggestCharts', [key], {});\n",
              "    }\n",
              "    (() => {\n",
              "      let quickchartButtonEl =\n",
              "        document.querySelector('#df-8ff7c8d0-1031-4b48-943c-7fd8247ade6c button');\n",
              "      quickchartButtonEl.style.display =\n",
              "        google.colab.kernel.accessAllowed ? 'block' : 'none';\n",
              "    })();\n",
              "  </script>\n",
              "</div>\n",
              "    </div>\n",
              "  </div>\n"
            ]
          },
          "metadata": {},
          "execution_count": 6
        }
      ]
    },
    {
      "cell_type": "markdown",
      "source": [
        "## 資料數量"
      ],
      "metadata": {
        "id": "UfWhYd8EJX4p"
      }
    },
    {
      "cell_type": "code",
      "source": [
        "print(data_df.shape)"
      ],
      "metadata": {
        "colab": {
          "base_uri": "https://localhost:8080/"
        },
        "id": "ckJKcfExkwrG",
        "outputId": "3030f813-5899-4d81-9935-2927c132b503"
      },
      "execution_count": null,
      "outputs": [
        {
          "output_type": "stream",
          "name": "stdout",
          "text": [
            "(570, 13)\n"
          ]
        }
      ]
    },
    {
      "cell_type": "markdown",
      "source": [
        "## Select the columns of interest"
      ],
      "metadata": {
        "id": "xwKdkbKlJmOF"
      }
    },
    {
      "cell_type": "code",
      "source": [
        "# select interesting variables without coordinates (10,11)\n",
        "column_names = data_df.columns\n",
        "column_names_select = column_names[[0,1,2,9,12]]\n",
        "print(column_names_select)\n"
      ],
      "metadata": {
        "colab": {
          "base_uri": "https://localhost:8080/"
        },
        "id": "LlUzFKbUmQGc",
        "outputId": "ffb1e3f6-f99e-4920-90d3-c3ecde3cf2ed"
      },
      "execution_count": null,
      "outputs": [
        {
          "output_type": "stream",
          "name": "stdout",
          "text": [
            "Index(['Banner', 'Person', 'Era', 'Loc', 'year'], dtype='object')\n"
          ]
        }
      ]
    },
    {
      "cell_type": "markdown",
      "source": [
        "## Number of distinct(unique) values"
      ],
      "metadata": {
        "id": "mq8EKI-jKFBA"
      }
    },
    {
      "cell_type": "code",
      "source": [
        "# how many unique values in an intresting column\n",
        "for column_name in column_names_select:\n",
        "  num_unique_values = data_df[column_name].nunique()\n",
        "  print(f\"{column_name}:{num_unique_values}\")\n"
      ],
      "metadata": {
        "colab": {
          "base_uri": "https://localhost:8080/"
        },
        "id": "6mY7BJzrl5yh",
        "outputId": "ff4a687c-03d2-49b3-d27a-64ca9b17157c"
      },
      "execution_count": null,
      "outputs": [
        {
          "output_type": "stream",
          "name": "stdout",
          "text": [
            "Banner:8\n",
            "Person:124\n",
            "Era:3\n",
            "Loc:32\n",
            "year:17\n"
          ]
        }
      ]
    },
    {
      "cell_type": "markdown",
      "source": [
        "## Distribution of 'Banner'"
      ],
      "metadata": {
        "id": "uBEUBiYgKivv"
      }
    },
    {
      "cell_type": "code",
      "source": [
        "column_name = 'Banner'\n",
        "order = ['正白旗', '正黃旗', '正藍旗', '正紅旗', '鑲白旗', '鑲黃旗', '鑲藍旗', '鑲紅旗']\n",
        "custom_palette = {'正白旗': 'gray', '正黃旗': 'Gold', '正藍旗': 'MediumBlue', '正紅旗': 'crimson',\n",
        "                  '鑲白旗': 'silver', '鑲黃旗': 'yellow', '鑲藍旗': 'cornflowerblue', '鑲紅旗': 'Palevioletred'}\n",
        "\n",
        "\n",
        "column_counts = data_df[column_name].value_counts().reset_index() # reset_index: 把 index 變成 column\n",
        "column_counts.columns = ['Banner', 'count']\n",
        "\n",
        "sns.barplot(x='count', y='Banner', data=column_counts, order = order, orient='h', palette = custom_palette)\n",
        "plt.title(column_name)\n",
        "plt.xticks(rotation='vertical')\n",
        "plt.show()"
      ],
      "metadata": {
        "colab": {
          "base_uri": "https://localhost:8080/",
          "height": 481
        },
        "id": "JP366Jo7m0LH",
        "outputId": "de40ead1-0b83-460e-9605-e3d3863005ac"
      },
      "execution_count": null,
      "outputs": [
        {
          "output_type": "display_data",
          "data": {
            "text/plain": [
              "<Figure size 640x480 with 1 Axes>"
            ],
            "image/png": "[encoded data removed]"
          },
          "metadata": {}
        }
      ]
    },
    {
      "cell_type": "markdown",
      "source": [
        "## Distribution of 'Banner' and 'Era'"
      ],
      "metadata": {
        "id": "ySdhj8rfa7Wt"
      }
    },
    {
      "cell_type": "code",
      "source": [
        "df = data_df[['Banner', 'Era']]\n",
        "\n",
        "# 使用 groupby 按年份和 Banner 分组，计算筆數\n",
        "banner_era_counts = df.groupby(['Era', 'Banner']).size().reset_index()\n",
        "banner_era_counts = banner_era_counts.fillna(0) # NaN 補 0\n",
        "\n",
        "# assign column names (不知為第三個欄位是0何無法直接修改)\n",
        "banner_era_counts.rename(columns=lambda x: f'Count_{x}', inplace=True)\n",
        "banner_era_counts.columns = ['Era','Banner','count']"
      ],
      "metadata": {
        "id": "SHGu2c_X1ohk"
      },
      "execution_count": null,
      "outputs": []
    },
    {
      "cell_type": "code",
      "source": [
        "\n",
        "\n",
        "sns.barplot(data=banner_era_counts, x='Era', y='count', hue='Banner', hue_order = order, palette = custom_palette)\n",
        "plt.show()\n"
      ],
      "metadata": {
        "colab": {
          "base_uri": "https://localhost:8080/",
          "height": 449
        },
        "id": "NSHQQ_0wSLcO",
        "outputId": "510eafc9-5361-4a47-d470-eca5cbb53f79"
      },
      "execution_count": null,
      "outputs": [
        {
          "output_type": "display_data",
          "data": {
            "text/plain": [
              "<Figure size 640x480 with 1 Axes>"
            ],
            "image/png": "[encoded data removed]"
          },
          "metadata": {}
        }
      ]
    },
    {
      "cell_type": "markdown",
      "source": [
        "## Time series of 'Banner'"
      ],
      "metadata": {
        "id": "3vUXPjDe1j_i"
      }
    },
    {
      "cell_type": "code",
      "source": [
        "# df = data_df[['Banner', 'year']]\n",
        "\n",
        "# # 使用 groupby 按年份和 Banner 分组，计算筆數\n",
        "# banner_year_counts = df.groupby(['year', 'Banner']).size().unstack()\n",
        "# banner_year_counts = banner_year_counts.fillna(0) # NaN 補 0\n",
        "\n",
        "# # 绘制折线图展示每个班级随着年份变化的人数\n",
        "# ax = banner_year_counts.plot(kind='line', marker='o', figsize=(10, 6))\n",
        "# ax.set_xlabel('Year')\n",
        "# ax.set_ylabel('Count')\n",
        "# ax.set_title('Banner Counts Over Years')\n",
        "# ax.legend(title='Banner')\n",
        "# plt.show()\n",
        "\n"
      ],
      "metadata": {
        "id": "icnYX4L71l8s"
      },
      "execution_count": null,
      "outputs": []
    },
    {
      "cell_type": "code",
      "source": [
        "df = data_df[['Banner', 'year']]\n",
        "\n",
        "banner_year_counts = df.groupby(['year', 'Banner']).size()\n",
        "banner_year_counts = banner_year_counts.fillna(0) # NaN 補 0\n",
        "banner_year_counts = banner_year_counts.reset_index()\n",
        "\n",
        "# assign column names (不知為第三個欄位是0何無法直接修改)\n",
        "banner_year_counts.rename(columns=lambda x: f'Count_{x}', inplace=True)\n",
        "banner_year_counts.columns = ['year','banner','count']\n",
        "\n",
        "df = banner_year_counts\n",
        "# 创建包含所有可能 year 和 banner 组合的数据框\n",
        "# all_years = df['year'].unique()\n",
        "all_years = np.arange(1630,1657)\n",
        "all_banners = df['banner'].unique()\n",
        "all_combinations = pd.MultiIndex.from_product([all_years, all_banners], names=['year', 'banner'])\n",
        "all_data = pd.DataFrame(index=all_combinations).reset_index()\n",
        "\n",
        "# 将两个数据框合并，并填充缺失的 count 为 0\n",
        "merged_df = all_data.merge(df, on=['year', 'banner'], how='left').fillna(0)\n"
      ],
      "metadata": {
        "id": "kGPWTm9KuoPe"
      },
      "execution_count": null,
      "outputs": []
    },
    {
      "cell_type": "code",
      "source": [
        "plt.figure(figsize=(10, 5))\n",
        "sns.lineplot(data=merged_df, x='year', y='count', hue='banner', marker='o', hue_order = order, palette = custom_palette)"
      ],
      "metadata": {
        "colab": {
          "base_uri": "https://localhost:8080/",
          "height": 483
        },
        "id": "BLo44wQauZ43",
        "outputId": "af81a5f6-dc35-481a-9361-018490de39fd"
      },
      "execution_count": null,
      "outputs": [
        {
          "output_type": "execute_result",
          "data": {
            "text/plain": [
              "<Axes: xlabel='year', ylabel='count'>"
            ]
          },
          "metadata": {},
          "execution_count": 15
        },
        {
          "output_type": "display_data",
          "data": {
            "text/plain": [
              "<Figure size 1000x500 with 1 Axes>"
            ],
            "image/png": "[encoded data removed]"
          },
          "metadata": {}
        }
      ]
    },
    {
      "cell_type": "markdown",
      "source": [
        "## 有無 person 屬於多個banner? no"
      ],
      "metadata": {
        "id": "nWNQzw1h0Sqk"
      }
    },
    {
      "cell_type": "code",
      "source": [
        "df_group = data_df[['Banner', 'Person']].groupby(['Person', 'Banner']).size().reset_index()\n",
        "df_group.duplicated(subset=['Person', 'Banner']).any()"
      ],
      "metadata": {
        "colab": {
          "base_uri": "https://localhost:8080/"
        },
        "id": "wGdeGoQd1Mw7",
        "outputId": "1ea0a66d-3374-45b6-d57b-ff8cc0b0e6c2"
      },
      "execution_count": null,
      "outputs": [
        {
          "output_type": "execute_result",
          "data": {
            "text/plain": [
              "False"
            ]
          },
          "metadata": {},
          "execution_count": 16
        }
      ]
    },
    {
      "cell_type": "markdown",
      "source": [
        "# Artillery sieging experience (砲兵攻城經驗值)"
      ],
      "metadata": {
        "id": "0cHmvLb426mX"
      }
    },
    {
      "cell_type": "markdown",
      "source": [
        "新增欄位 \"experience\"，計算方式是：資料中的一筆資料代表一次攻城成功，計算 Person 第幾次攻城成功。"
      ],
      "metadata": {
        "id": "3uYXHSwKcc8r"
      }
    },
    {
      "cell_type": "code",
      "source": [
        "df = data_df\n",
        "df['experience'] = df.groupby('Person').cumcount() + 1 # start from 1\n",
        "df = df[['Banner', 'Person', 'year','experience']]\n",
        "df_exp = df\n",
        "\n",
        "df_exp.iloc[0:3,:]"
      ],
      "metadata": {
        "colab": {
          "base_uri": "https://localhost:8080/",
          "height": 143
        },
        "id": "Z8n58mNl3q7c",
        "outputId": "6ad2fae2-4828-436b-9061-78ba6b86f8c1"
      },
      "execution_count": 58,
      "outputs": [
        {
          "output_type": "execute_result",
          "data": {
            "text/plain": [
              "    Banner   Person  year  experience\n",
              "288    鑲藍旗  墨爾根轄李國翰  1631           1\n",
              "226    正藍旗      佟養性  1631           1\n",
              "499    正白旗     何智機理  1631           1"
            ],
            "text/html": [
              "\n",
              "  <div id=\"df-3a13d7f7-b883-409c-8609-230d1405d8f9\" class=\"colab-df-container\">\n",
              "    <div>\n",
              "<style scoped>\n",
              "    .dataframe tbody tr th:only-of-type {\n",
              "        vertical-align: middle;\n",
              "    }\n",
              "\n",
              "    .dataframe tbody tr th {\n",
              "        vertical-align: top;\n",
              "    }\n",
              "\n",
              "    .dataframe thead th {\n",
              "        text-align: right;\n",
              "    }\n",
              "</style>\n",
              "<table border=\"1\" class=\"dataframe\">\n",
              "  <thead>\n",
              "    <tr style=\"text-align: right;\">\n",
              "      <th></th>\n",
              "      <th>Banner</th>\n",
              "      <th>Person</th>\n",
              "      <th>year</th>\n",
              "      <th>experience</th>\n",
              "    </tr>\n",
              "  </thead>\n",
              "  <tbody>\n",
              "    <tr>\n",
              "      <th>288</th>\n",
              "      <td>鑲藍旗</td>\n",
              "      <td>墨爾根轄李國翰</td>\n",
              "      <td>1631</td>\n",
              "      <td>1</td>\n",
              "    </tr>\n",
              "    <tr>\n",
              "      <th>226</th>\n",
              "      <td>正藍旗</td>\n",
              "      <td>佟養性</td>\n",
              "      <td>1631</td>\n",
              "      <td>1</td>\n",
              "    </tr>\n",
              "    <tr>\n",
              "      <th>499</th>\n",
              "      <td>正白旗</td>\n",
              "      <td>何智機理</td>\n",
              "      <td>1631</td>\n",
              "      <td>1</td>\n",
              "    </tr>\n",
              "  </tbody>\n",
              "</table>\n",
              "</div>\n",
              "    <div class=\"colab-df-buttons\">\n",
              "\n",
              "  <div class=\"colab-df-container\">\n",
              "    <button class=\"colab-df-convert\" onclick=\"convertToInteractive('df-3a13d7f7-b883-409c-8609-230d1405d8f9')\"\n",
              "            title=\"Convert this dataframe to an interactive table.\"\n",
              "            style=\"display:none;\">\n",
              "\n",
              "  <svg xmlns=\"http://www.w3.org/2000/svg\" height=\"24px\" viewBox=\"0 -960 960 960\">\n",
              "    <path d=\"M120-120v-720h720v720H120Zm60-500h600v-160H180v160Zm220 220h160v-160H400v160Zm0 220h160v-160H400v160ZM180-400h160v-160H180v160Zm440 0h160v-160H620v160ZM180-180h160v-160H180v160Zm440 0h160v-160H620v160Z\"/>\n",
              "  </svg>\n",
              "    </button>\n",
              "\n",
              "  <style>\n",
              "    .colab-df-container {\n",
              "      display:flex;\n",
              "      gap: 12px;\n",
              "    }\n",
              "\n",
              "    .colab-df-convert {\n",
              "      background-color: #E8F0FE;\n",
              "      border: none;\n",
              "      border-radius: 50%;\n",
              "      cursor: pointer;\n",
              "      display: none;\n",
              "      fill: #1967D2;\n",
              "      height: 32px;\n",
              "      padding: 0 0 0 0;\n",
              "      width: 32px;\n",
              "    }\n",
              "\n",
              "    .colab-df-convert:hover {\n",
              "      background-color: #E2EBFA;\n",
              "      box-shadow: 0px 1px 2px rgba(60, 64, 67, 0.3), 0px 1px 3px 1px rgba(60, 64, 67, 0.15);\n",
              "      fill: #174EA6;\n",
              "    }\n",
              "\n",
              "    .colab-df-buttons div {\n",
              "      margin-bottom: 4px;\n",
              "    }\n",
              "\n",
              "    [theme=dark] .colab-df-convert {\n",
              "      background-color: #3B4455;\n",
              "      fill: #D2E3FC;\n",
              "    }\n",
              "\n",
              "    [theme=dark] .colab-df-convert:hover {\n",
              "      background-color: #434B5C;\n",
              "      box-shadow: 0px 1px 3px 1px rgba(0, 0, 0, 0.15);\n",
              "      filter: drop-shadow(0px 1px 2px rgba(0, 0, 0, 0.3));\n",
              "      fill: #FFFFFF;\n",
              "    }\n",
              "  </style>\n",
              "\n",
              "    <script>\n",
              "      const buttonEl =\n",
              "        document.querySelector('#df-3a13d7f7-b883-409c-8609-230d1405d8f9 button.colab-df-convert');\n",
              "      buttonEl.style.display =\n",
              "        google.colab.kernel.accessAllowed ? 'block' : 'none';\n",
              "\n",
              "      async function convertToInteractive(key) {\n",
              "        const element = document.querySelector('#df-3a13d7f7-b883-409c-8609-230d1405d8f9');\n",
              "        const dataTable =\n",
              "          await google.colab.kernel.invokeFunction('convertToInteractive',\n",
              "                                                    [key], {});\n",
              "        if (!dataTable) return;\n",
              "\n",
              "        const docLinkHtml = 'Like what you see? Visit the ' +\n",
              "          '<a target=\"_blank\" href=https://colab.research.google.com/notebooks/data_table.ipynb>data table notebook</a>'\n",
              "          + ' to learn more about interactive tables.';\n",
              "        element.innerHTML = '';\n",
              "        dataTable['output_type'] = 'display_data';\n",
              "        await google.colab.output.renderOutput(dataTable, element);\n",
              "        const docLink = document.createElement('div');\n",
              "        docLink.innerHTML = docLinkHtml;\n",
              "        element.appendChild(docLink);\n",
              "      }\n",
              "    </script>\n",
              "  </div>\n",
              "\n",
              "\n",
              "<div id=\"df-1ef35267-93b2-4dbf-978a-f0712f3b12a3\">\n",
              "  <button class=\"colab-df-quickchart\" onclick=\"quickchart('df-1ef35267-93b2-4dbf-978a-f0712f3b12a3')\"\n",
              "            title=\"Suggest charts.\"\n",
              "            style=\"display:none;\">\n",
              "\n",
              "<svg xmlns=\"http://www.w3.org/2000/svg\" height=\"24px\"viewBox=\"0 0 24 24\"\n",
              "     width=\"24px\">\n",
              "    <g>\n",
              "        <path d=\"M19 3H5c-1.1 0-2 .9-2 2v14c0 1.1.9 2 2 2h14c1.1 0 2-.9 2-2V5c0-1.1-.9-2-2-2zM9 17H7v-7h2v7zm4 0h-2V7h2v10zm4 0h-2v-4h2v4z\"/>\n",
              "    </g>\n",
              "</svg>\n",
              "  </button>\n",
              "\n",
              "<style>\n",
              "  .colab-df-quickchart {\n",
              "      --bg-color: #E8F0FE;\n",
              "      --fill-color: #1967D2;\n",
              "      --hover-bg-color: #E2EBFA;\n",
              "      --hover-fill-color: #174EA6;\n",
              "      --disabled-fill-color: #AAA;\n",
              "      --disabled-bg-color: #DDD;\n",
              "  }\n",
              "\n",
              "  [theme=dark] .colab-df-quickchart {\n",
              "      --bg-color: #3B4455;\n",
              "      --fill-color: #D2E3FC;\n",
              "      --hover-bg-color: #434B5C;\n",
              "      --hover-fill-color: #FFFFFF;\n",
              "      --disabled-bg-color: #3B4455;\n",
              "      --disabled-fill-color: #666;\n",
              "  }\n",
              "\n",
              "  .colab-df-quickchart {\n",
              "    background-color: var(--bg-color);\n",
              "    border: none;\n",
              "    border-radius: 50%;\n",
              "    cursor: pointer;\n",
              "    display: none;\n",
              "    fill: var(--fill-color);\n",
              "    height: 32px;\n",
              "    padding: 0;\n",
              "    width: 32px;\n",
              "  }\n",
              "\n",
              "  .colab-df-quickchart:hover {\n",
              "    background-color: var(--hover-bg-color);\n",
              "    box-shadow: 0 1px 2px rgba(60, 64, 67, 0.3), 0 1px 3px 1px rgba(60, 64, 67, 0.15);\n",
              "    fill: var(--button-hover-fill-color);\n",
              "  }\n",
              "\n",
              "  .colab-df-quickchart-complete:disabled,\n",
              "  .colab-df-quickchart-complete:disabled:hover {\n",
              "    background-color: var(--disabled-bg-color);\n",
              "    fill: var(--disabled-fill-color);\n",
              "    box-shadow: none;\n",
              "  }\n",
              "\n",
              "  .colab-df-spinner {\n",
              "    border: 2px solid var(--fill-color);\n",
              "    border-color: transparent;\n",
              "    border-bottom-color: var(--fill-color);\n",
              "    animation:\n",
              "      spin 1s steps(1) infinite;\n",
              "  }\n",
              "\n",
              "  @keyframes spin {\n",
              "    0% {\n",
              "      border-color: transparent;\n",
              "      border-bottom-color: var(--fill-color);\n",
              "      border-left-color: var(--fill-color);\n",
              "    }\n",
              "    20% {\n",
              "      border-color: transparent;\n",
              "      border-left-color: var(--fill-color);\n",
              "      border-top-color: var(--fill-color);\n",
              "    }\n",
              "    30% {\n",
              "      border-color: transparent;\n",
              "      border-left-color: var(--fill-color);\n",
              "      border-top-color: var(--fill-color);\n",
              "      border-right-color: var(--fill-color);\n",
              "    }\n",
              "    40% {\n",
              "      border-color: transparent;\n",
              "      border-right-color: var(--fill-color);\n",
              "      border-top-color: var(--fill-color);\n",
              "    }\n",
              "    60% {\n",
              "      border-color: transparent;\n",
              "      border-right-color: var(--fill-color);\n",
              "    }\n",
              "    80% {\n",
              "      border-color: transparent;\n",
              "      border-right-color: var(--fill-color);\n",
              "      border-bottom-color: var(--fill-color);\n",
              "    }\n",
              "    90% {\n",
              "      border-color: transparent;\n",
              "      border-bottom-color: var(--fill-color);\n",
              "    }\n",
              "  }\n",
              "</style>\n",
              "\n",
              "  <script>\n",
              "    async function quickchart(key) {\n",
              "      const quickchartButtonEl =\n",
              "        document.querySelector('#' + key + ' button');\n",
              "      quickchartButtonEl.disabled = true;  // To prevent multiple clicks.\n",
              "      quickchartButtonEl.classList.add('colab-df-spinner');\n",
              "      try {\n",
              "        const charts = await google.colab.kernel.invokeFunction(\n",
              "            'suggestCharts', [key], {});\n",
              "      } catch (error) {\n",
              "        console.error('Error during call to suggestCharts:', error);\n",
              "      }\n",
              "      quickchartButtonEl.classList.remove('colab-df-spinner');\n",
              "      quickchartButtonEl.classList.add('colab-df-quickchart-complete');\n",
              "    }\n",
              "    (() => {\n",
              "      let quickchartButtonEl =\n",
              "        document.querySelector('#df-1ef35267-93b2-4dbf-978a-f0712f3b12a3 button');\n",
              "      quickchartButtonEl.style.display =\n",
              "        google.colab.kernel.accessAllowed ? 'block' : 'none';\n",
              "    })();\n",
              "  </script>\n",
              "</div>\n",
              "    </div>\n",
              "  </div>\n"
            ]
          },
          "metadata": {},
          "execution_count": 58
        }
      ]
    },
    {
      "cell_type": "markdown",
      "source": [
        "## 整體經驗人次隨時間的變化\n",
        "\n",
        "Aggregate data by year and experience and count the number of elements."
      ],
      "metadata": {
        "id": "J-A4-uUlLuWP"
      }
    },
    {
      "cell_type": "code",
      "source": [
        "# aggregate\n",
        "df = df_exp.groupby(['year', 'experience']).size()\n",
        "df = df.reset_index(name='count')\n",
        "print(df)\n",
        "\n",
        "# long format to wide format, for plot\n",
        "df = df.pivot_table(index='year', columns='experience', values='count', aggfunc='sum', fill_value=0)\n",
        "print(df)\n",
        "\n",
        "# barchart\n",
        "sns.set_palette(\"Paired\")\n",
        "df.plot(kind='bar', stacked=True)\n",
        "plt.xlabel('Year')\n",
        "plt.ylabel('Number of gunners')\n",
        "plt.legend(title='Experience')\n",
        "plt.show()\n"
      ],
      "metadata": {
        "colab": {
          "base_uri": "https://localhost:8080/",
          "height": 1000
        },
        "id": "54-coHVc5Xe2",
        "outputId": "060f2ea7-3db4-461d-8127-96e305d8817c"
      },
      "execution_count": 64,
      "outputs": [
        {
          "output_type": "stream",
          "name": "stdout",
          "text": [
            "    year  experience  count\n",
            "0   1631           1      5\n",
            "1   1636           1      3\n",
            "2   1636           2      1\n",
            "3   1636           3      1\n",
            "4   1637           1      2\n",
            "..   ...         ...    ...\n",
            "83  1651           2      1\n",
            "84  1651           8      1\n",
            "85  1652           4      3\n",
            "86  1654           4      1\n",
            "87  1656           2      1\n",
            "\n",
            "[88 rows x 3 columns]\n",
            "experience  1   2   3   4   5   6   7   8   9   10  11  12\n",
            "year                                                      \n",
            "1631         5   0   0   0   0   0   0   0   0   0   0   0\n",
            "1636         3   1   1   0   0   0   0   0   0   0   0   0\n",
            "1637         2   3   2   1   0   0   0   0   0   0   0   0\n",
            "1638         1   3   4   6   6   3   0   0   0   0   0   0\n",
            "1639         0   0   0   0   0   0   1   0   0   0   0   0\n",
            "1640         8   2   0   0   0   1   0   0   0   0   0   0\n",
            "1641         9   8   5   1   0   0   1   1   0   0   0   0\n",
            "1642        16  22  11   5   1   0   1   1   0   0   0   0\n",
            "1643        35  32  15  21  17   7   2   0   2   2   0   0\n",
            "1644         6   1  14   1   4   5   3   2   2   1   1   0\n",
            "1645        16  16  22  18  11   8   7   4   3   0   0   0\n",
            "1648         2   2   2   3   2   4   4   4   2   1   1   0\n",
            "1649        21  20  13  16  13  12   9   8   7   2   1   1\n",
            "1651         0   1   0   0   0   0   0   1   0   0   0   0\n",
            "1652         0   0   0   3   0   0   0   0   0   0   0   0\n",
            "1654         0   0   0   1   0   0   0   0   0   0   0   0\n",
            "1656         0   1   0   0   0   0   0   0   0   0   0   0\n"
          ]
        },
        {
          "output_type": "display_data",
          "data": {
            "text/plain": [
              "<Figure size 640x480 with 1 Axes>"
            ],
            "image/png": "[encoded data removed]"
          },
          "metadata": {}
        }
      ]
    },
    {
      "cell_type": "markdown",
      "source": [
        "## 各Banner經驗人次隨時間的變化"
      ],
      "metadata": {
        "id": "ZL-Rnn8OLwJ8"
      }
    },
    {
      "cell_type": "code",
      "source": [
        "df = df_exp.groupby(['year', 'Banner', 'experience']).size()\n",
        "df = df.reset_index(name = 'count')\n",
        "df_exp_banner = df"
      ],
      "metadata": {
        "id": "6xba65PyXU2k"
      },
      "execution_count": 70,
      "outputs": []
    },
    {
      "cell_type": "code",
      "source": [
        "# all_banners = df_exp_banner['Banner'].unique()\n",
        "# for one_banner in all_banners:\n",
        "\n",
        "#   # 选择特定 'Banner' 值的所有行\n",
        "#   selected_banner = one_banner\n",
        "#   df = df_exp_banner[df_exp_banner['Banner'] == selected_banner]\n",
        "#   df = df.sort_values(by='year')\n",
        "\n",
        "#   # 使用 pivot_table 将数据重塑为适合绘制堆叠条形图的形式\n",
        "#   pivot_df = df.pivot_table(index='year', columns='experience', values='count', aggfunc='sum', fill_value=0)\n",
        "\n",
        "#   sns.set_palette(\"Paired\")  # 使用默认颜色方案\n",
        "#   pivot_df.plot(kind='bar', stacked=True)\n",
        "#   plt.xlabel('Year')\n",
        "#   plt.ylabel('Number of gunners')\n",
        "#   plt.title(selected_banner)\n",
        "#   plt.legend(title='Experience')\n",
        "#   plt.show()\n",
        "#   plt.savefig(f'experience_{one_banner}.png')\n"
      ],
      "metadata": {
        "id": "vkBNWBmc5ldI"
      },
      "execution_count": 74,
      "outputs": []
    },
    {
      "cell_type": "markdown",
      "source": [
        "## 最高經驗的人數分佈 (~1643 年末)"
      ],
      "metadata": {
        "id": "pLImR-RvQFG5"
      }
    },
    {
      "cell_type": "code",
      "source": [
        "df = df_exp[df_exp['year']<1644] # 挑出 1643年末之前\n",
        "df = df.groupby('Person')['experience'].max()\n",
        "df = df.reset_index(name = 'experience_max')\n",
        "# df = df.sort_values(by='experience_max')\n",
        "df_exp_before_1643 = df\n",
        "\n",
        "print(df_exp_before_1643.iloc[0:2,])"
      ],
      "metadata": {
        "colab": {
          "base_uri": "https://localhost:8080/"
        },
        "id": "X600cRmZQLQQ",
        "outputId": "136de488-0d22-4226-8c43-aea5cccba019"
      },
      "execution_count": 97,
      "outputs": [
        {
          "output_type": "stream",
          "name": "stdout",
          "text": [
            "  Person  experience_max\n",
            "0   何智機理               6\n",
            "1     佟代               4\n"
          ]
        }
      ]
    },
    {
      "cell_type": "code",
      "source": [
        "print(df.shape[0]) # 總共有多少人\n",
        "print(df[df['experience_max']>1].shape[0]) # 最高經驗 > 1的人數\n",
        "print(df[df['experience_max']>1].shape[0]/df.shape[0]) # 最高經驗 > 1的比例"
      ],
      "metadata": {
        "colab": {
          "base_uri": "https://localhost:8080/"
        },
        "id": "eIzGhN_pmEnZ",
        "outputId": "c9f26a12-a9e6-4706-faba-745fef34e588"
      },
      "execution_count": 94,
      "outputs": [
        {
          "output_type": "stream",
          "name": "stdout",
          "text": [
            "79\n",
            "71\n",
            "0.8987341772151899\n"
          ]
        }
      ]
    },
    {
      "source": [
        "df['experience_max'].plot(kind='hist',\n",
        "                          bins=20,\n",
        "                          figsize=(6, 5),\n",
        "                          color=sns.color_palette('tab10')[0])\n",
        "plt.xlabel('Number of experiences')\n",
        "plt.ylabel('Number of gunners')\n",
        "plt.tight_layout()"
      ],
      "cell_type": "code",
      "metadata": {
        "colab": {
          "base_uri": "https://localhost:8080/",
          "height": 507
        },
        "id": "qUGr5rXYVyU5",
        "outputId": "341c2ed2-a2a2-4d1d-a23b-4ec86baecb8d"
      },
      "execution_count": 92,
      "outputs": [
        {
          "output_type": "display_data",
          "data": {
            "text/plain": [
              "<Figure size 600x500 with 1 Axes>"
            ],
            "image/png": "[encoded data removed]"
          },
          "metadata": {}
        }
      ]
    },
    {
      "cell_type": "markdown",
      "source": [
        "## 人數問題"
      ],
      "metadata": {
        "id": "UVdZt5pTWlEX"
      }
    },
    {
      "cell_type": "markdown",
      "source": [
        "### 1644-1661 作戰的人數"
      ],
      "metadata": {
        "id": "NnD-ACNnn_j0"
      }
    },
    {
      "cell_type": "code",
      "source": [
        "df = df_exp\n",
        "df = df[df['year']<1662]\n",
        "df = df[df['year']>1643]\n",
        "print(df['Person'].nunique())\n",
        "df_1644_1661 = df\n"
      ],
      "metadata": {
        "colab": {
          "base_uri": "https://localhost:8080/"
        },
        "id": "fEgN-6f7Wq-V",
        "outputId": "070f2a22-6e26-4f59-ab27-37f27684c907"
      },
      "execution_count": 101,
      "outputs": [
        {
          "output_type": "stream",
          "name": "stdout",
          "text": [
            "87\n"
          ]
        }
      ]
    },
    {
      "cell_type": "markdown",
      "source": [
        "### 1644-1661 作戰的人有多少是 1643 年末前已有經驗"
      ],
      "metadata": {
        "id": "mmDesQzEZiEc"
      }
    },
    {
      "cell_type": "code",
      "source": [
        "person_1643 = df_exp_before_1643['Person'].unique()\n",
        "person_1644_1661 = df_1644_1661['Person'].unique()\n",
        "\n",
        "print(df_exp_before_1643['Person'].nunique()) # 1643 年前有作戰經驗的人數\n",
        "print(df_1644_1661['Person'].nunique()) # 1643 年前有作戰經驗的人數\n",
        "\n",
        "common_names = pd.Series(np.intersect1d(person_1643, person_1644_1661))\n",
        "print(common_names.nunique()) # 交集人數"
      ],
      "metadata": {
        "colab": {
          "base_uri": "https://localhost:8080/"
        },
        "id": "5kliiGtLXAkU",
        "outputId": "a90f2516-5af0-4ca5-815b-75d21a8db178"
      },
      "execution_count": 102,
      "outputs": [
        {
          "output_type": "stream",
          "name": "stdout",
          "text": [
            "79\n",
            "87\n",
            "42\n"
          ]
        }
      ]
    },
    {
      "cell_type": "markdown",
      "source": [
        "### 1643年末前有打仗，但1644之後不繼續打的人數 (quit)"
      ],
      "metadata": {
        "id": "mJoLN8mhoVHu"
      }
    },
    {
      "cell_type": "code",
      "source": [
        "difference_a = np.setdiff1d(person_1643, person_1644_1661)\n",
        "print(difference_a.shape)\n",
        "print(difference_a)\n"
      ],
      "metadata": {
        "colab": {
          "base_uri": "https://localhost:8080/"
        },
        "id": "GQEy1fmzbCM5",
        "outputId": "86893dfe-f828-45c7-85f0-407655cb6b07"
      },
      "execution_count": null,
      "outputs": [
        {
          "output_type": "stream",
          "name": "stdout",
          "text": [
            "(37,)\n",
            "['何智機理' '佟國印' '佟圖占' '佟學文' '佟養性' '劉光弼' '劉曰可' '劉涵英' '劉漢' '呂應學' '孔有德' '孟喬芳'\n",
            " '尚好仁' '崔應泰' '張成德' '方得勝' '李天成' '李時芳' '李茂芳' '柯永盛' '楊名高' '王仲善' '王國光' '王國明'\n",
            " '王棟' '盧延祚' '石廷柱' '祖可法' '祖大眷' '耿仲明' '蔣成良' '蘭繼友' '金玉和' '金維城' '馬光輝' '馬光遠'\n",
            " '馬如璧']\n"
          ]
        }
      ]
    },
    {
      "cell_type": "code",
      "source": [],
      "metadata": {
        "id": "uVNGKcf0fYeC"
      },
      "execution_count": null,
      "outputs": []
    }
  ]
}