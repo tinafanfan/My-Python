{
  "nbformat": 4,
  "nbformat_minor": 0,
  "metadata": {
    "colab": {
      "provenance": [],
      "authorship_tag": "ABX9TyMt9eB+Xzx5wUmYwRQ01oYt",
      "include_colab_link": true
    },
    "kernelspec": {
      "name": "python3",
      "display_name": "Python 3"
    },
    "language_info": {
      "name": "python"
    }
  },
  "cells": [
    {
      "cell_type": "markdown",
      "metadata": {
        "id": "view-in-github",
        "colab_type": "text"
      },
      "source": [
        "<a href=\"https://colab.research.google.com/github/tinafanfan/My-Python/blob/main/basic.ipynb\" target=\"_parent\"><img src=\"https://colab.research.google.com/assets/colab-badge.svg\" alt=\"Open In Colab\"/></a>"
      ]
    },
    {
      "cell_type": "markdown",
      "source": [
        "# for"
      ],
      "metadata": {
        "id": "tOPeBSyaPfiw"
      }
    },
    {
      "cell_type": "code",
      "execution_count": 3,
      "metadata": {
        "colab": {
          "base_uri": "https://localhost:8080/"
        },
        "id": "ELjC-NlpAO5f",
        "outputId": "964c3a6b-4ada-4275-c33d-71755b1909a8"
      },
      "outputs": [
        {
          "output_type": "stream",
          "name": "stdout",
          "text": [
            "3\n"
          ]
        }
      ],
      "source": [
        "# Stop a for loop when i == 3\n",
        "for i in range(10):\n",
        "    if (i==3):\n",
        "      print(i)\n",
        "\n",
        "      break"
      ]
    },
    {
      "cell_type": "markdown",
      "source": [
        "# dictionary"
      ],
      "metadata": {
        "id": "xO-tEIP-PZlN"
      }
    },
    {
      "cell_type": "code",
      "source": [
        "# Get dictionary keys as a list\n",
        "def getList(dict):\n",
        "    return dict.keys()\n",
        "dict = {1:'Geeks', 2:'for', 3:'geeks'}\n",
        "print(getList(dict))"
      ],
      "metadata": {
        "colab": {
          "base_uri": "https://localhost:8080/"
        },
        "id": "u0eJZd62O3ia",
        "outputId": "70d64082-17a5-4e24-e78a-58d54fcc12ee"
      },
      "execution_count": 2,
      "outputs": [
        {
          "output_type": "stream",
          "name": "stdout",
          "text": [
            "dict_keys([1, 2, 3])\n"
          ]
        }
      ]
    },
    {
      "cell_type": "markdown",
      "source": [
        "# iterator"
      ],
      "metadata": {
        "id": "yBFD9NNePXoj"
      }
    },
    {
      "cell_type": "code",
      "source": [
        "# source: https://www.w3schools.com/python/python_iterators.asp\n",
        "\n",
        "# show usage of iter() and next()\n",
        "# An iterator is an object that contains a countable number of values.\n",
        "# Lists, tuples, dictionaries, and sets are all iterable objects. They are iterable containers which you can get an iterator from.\n",
        "# All these objects have a iter() method which is used to get an iterator.\n",
        "mytuple = (\"apple\", \"banana\", \"cherry\")\n",
        "myit = iter(mytuple)\n",
        "print(next(myit))\n",
        "\n",
        "# create an iterator\n",
        "class MyNumbers:\n",
        "    def __iter__(self):\n",
        "        self.a = 1\n",
        "        return self\n",
        "\n",
        "    def __next__(self):\n",
        "        x = self.a\n",
        "        self.a += 2\n",
        "        return x\n",
        "\n",
        "myclass = MyNumbers()\n",
        "myiter = iter(myclass)\n",
        "print(next(myiter)) # 1\n",
        "print(next(myiter)) # 3\n",
        "\n",
        "# create an iterator with StopIteration that avoid unlimit iteration\n",
        "class MyNumbers:\n",
        "    def __iter__(self):\n",
        "        self.a = 1\n",
        "        return self\n",
        "\n",
        "    def __next__(self):\n",
        "        if self.a <= 5:\n",
        "            x = self.a\n",
        "            self.a += 1\n",
        "            return x\n",
        "        else:\n",
        "          raise StopIteration\n",
        "\n",
        "myclass = MyNumbers()\n",
        "myiter = iter(myclass)\n",
        "\n",
        "for x in myiter:\n",
        "    print(x) # 1,...,5"
      ],
      "metadata": {
        "colab": {
          "base_uri": "https://localhost:8080/"
        },
        "id": "zsKCVc7WO5s2",
        "outputId": "70d3444c-6836-4a9e-b720-478e41558d0a"
      },
      "execution_count": 6,
      "outputs": [
        {
          "output_type": "stream",
          "name": "stdout",
          "text": [
            "apple\n",
            "1\n",
            "3\n",
            "1\n",
            "2\n",
            "3\n",
            "4\n",
            "5\n"
          ]
        }
      ]
    },
    {
      "cell_type": "markdown",
      "source": [
        "# string"
      ],
      "metadata": {
        "id": "owJXvcs9PUS4"
      }
    },
    {
      "cell_type": "code",
      "source": [
        "# Does a list or a string contain a specific string?\n",
        "\"foo\" in \"foobar\"\n",
        "\n",
        "\"foo\" in [\"bar\", \"foo\", \"foobar\"]\n",
        "\n",
        "\"Foo\" not in [\"bar\", \"foo\", \"foobar\"]"
      ],
      "metadata": {
        "id": "u8jOIAD4PAU9"
      },
      "execution_count": null,
      "outputs": []
    }
  ]
}