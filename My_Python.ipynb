{
  "nbformat": 4,
  "nbformat_minor": 0,
  "metadata": {
    "colab": {
      "provenance": [],
      "collapsed_sections": [
        "EEXe2G1hPiHA",
        "NUGlbj9SPmIv"
      ],
      "toc_visible": true,
      "authorship_tag": "ABX9TyMeoBsi8zZO/K9nFMgc7DYN",
      "include_colab_link": true
    },
    "kernelspec": {
      "name": "python3",
      "display_name": "Python 3"
    },
    "language_info": {
      "name": "python"
    }
  },
  "cells": [
    {
      "cell_type": "markdown",
      "metadata": {
        "id": "view-in-github",
        "colab_type": "text"
      },
      "source": [
        "<a href=\"https://colab.research.google.com/github/tinafanfan/My-Python/blob/main/My_Python.ipynb\" target=\"_parent\"><img src=\"https://colab.research.google.com/assets/colab-badge.svg\" alt=\"Open In Colab\"/></a>"
      ]
    },
    {
      "cell_type": "markdown",
      "source": [
        "[https://colab.research.google.com/drive/1QjevIZ1CD4S4ss3et2n9eVAmqayW9Isf#scrollTo=M9V3qiIwPPLy](https://colab.research.google.com/drive/1QjevIZ1CD4S4ss3et2n9eVAmqayW9Isf#scrollTo=M9V3qiIwPPLy)"
      ],
      "metadata": {
        "id": "-IrwUpxnWuen"
      }
    },
    {
      "cell_type": "code",
      "source": [
        "import numpy as np\n",
        "import pandas as pd"
      ],
      "metadata": {
        "id": "2OAmRjl2NBMa"
      },
      "execution_count": null,
      "outputs": []
    },
    {
      "cell_type": "markdown",
      "source": [
        "# New Section"
      ],
      "metadata": {
        "id": "2ePBNgP4laOx"
      }
    },
    {
      "cell_type": "markdown",
      "source": [
        "# Read dataset"
      ],
      "metadata": {
        "id": "TkFBvUewRylo"
      }
    },
    {
      "cell_type": "code",
      "source": [
        "# The sklearn.datasets module includes utilities to load datasets, including methods to load and fetch popular reference datasets.\n",
        "from sklearn import datasets\n",
        "iris = datasets.load_iris() # a 150x4 numpy.ndarray\n",
        "list(iris.target_names)"
      ],
      "metadata": {
        "colab": {
          "base_uri": "https://localhost:8080/"
        },
        "id": "efrSts5QR1s4",
        "outputId": "e9450235-14c7-4f85-9356-f56b06ffde57"
      },
      "execution_count": null,
      "outputs": [
        {
          "output_type": "execute_result",
          "data": {
            "text/plain": [
              "['setosa', 'versicolor', 'virginica']"
            ]
          },
          "metadata": {},
          "execution_count": 14
        }
      ]
    },
    {
      "cell_type": "markdown",
      "source": [],
      "metadata": {
        "id": "Glmi9zurACda"
      }
    },
    {
      "cell_type": "markdown",
      "source": [
        "# Numpy\n"
      ],
      "metadata": {
        "id": "ibbo3zXoM8Iv"
      }
    },
    {
      "cell_type": "markdown",
      "source": [
        "## np.ix_"
      ],
      "metadata": {
        "id": "M9V3qiIwPPLy"
      }
    },
    {
      "cell_type": "markdown",
      "source": [
        "Construct an open mesh from multiple sequences using the function `np.ix_`.\n",
        "\n",
        "![ix_.jpeg](data:image/jpeg;base64,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)"
      ],
      "metadata": {
        "id": "dcACqu1ZM1R-"
      }
    },
    {
      "cell_type": "code",
      "execution_count": null,
      "metadata": {
        "colab": {
          "base_uri": "https://localhost:8080/"
        },
        "id": "wBDSH6LmMy_P",
        "outputId": "d6c351b6-75fd-4c7f-e25a-cb5c3688b238"
      },
      "outputs": [
        {
          "output_type": "stream",
          "name": "stdout",
          "text": [
            "[[1. 2. 3. 4.]\n",
            " [1. 2. 3. 4.]\n",
            " [5. 6. 7. 8.]\n",
            " [5. 6. 7. 8.]]\n",
            "[1. 8.]\n",
            "[[1. 4.]\n",
            " [5. 8.]]\n"
          ]
        }
      ],
      "source": [
        "ind = np.array([0,3])\n",
        "X = np.array([(1, 2, 3, 4), (1, 2, 3, 4), (5, 6, 7, 8), (5, 6, 7, 8)], dtype = float)\n",
        "print(X)\n",
        "print(X[ind, ind]) # diagonal elements - red circle\n",
        "print(X[np.ix_(ind, ind)]) # a mesh - red highlight color"
      ]
    },
    {
      "cell_type": "markdown",
      "source": [
        "## inverse"
      ],
      "metadata": {
        "id": "EEXe2G1hPiHA"
      }
    },
    {
      "cell_type": "code",
      "source": [
        "A = np.array([[6, 1, 1],\n",
        "              [4, -2, 5],\n",
        "              [2, 8, 7]])\n",
        "\n",
        "# Calculating the inverse of the matrix\n",
        "print(np.linalg.inv(A))"
      ],
      "metadata": {
        "colab": {
          "base_uri": "https://localhost:8080/"
        },
        "id": "SerZbdbAPiwd",
        "outputId": "1b8deab0-4c64-42b5-984c-0b9f3657c1e8"
      },
      "execution_count": null,
      "outputs": [
        {
          "output_type": "stream",
          "name": "stdout",
          "text": [
            "[[ 0.17647059 -0.00326797 -0.02287582]\n",
            " [ 0.05882353 -0.13071895  0.08496732]\n",
            " [-0.11764706  0.1503268   0.05228758]]\n"
          ]
        }
      ]
    },
    {
      "cell_type": "markdown",
      "source": [
        "## concatenate\n",
        "\n",
        "You can use the numpy.concatenate() function to concat, merge, or join a sequence of two or multiple arrays into a single NumPy array.\n",
        "https://sparkbyexamples.com/numpy/numpy-concatenate-arrays/"
      ],
      "metadata": {
        "id": "NUGlbj9SPmIv"
      }
    },
    {
      "cell_type": "code",
      "source": [
        "# 1-D\n",
        "arr = np.array([0, 1, 2])\n",
        "print(arr)\n",
        "print(arr.shape)\n",
        "\n",
        "# 2-D\n",
        "arr1 = np.array([[3, 4, 5]])\n",
        "print(arr1)\n",
        "print(arr1.shape)\n",
        "\n",
        "# 3-D\n",
        "arr2 = np.array([[[0,1,2],[3, 4, 5]]])\n",
        "print(arr2)\n",
        "print(arr2.shape)"
      ],
      "metadata": {
        "colab": {
          "base_uri": "https://localhost:8080/"
        },
        "id": "E8AVmIswPkMW",
        "outputId": "8146a816-e093-4a62-e088-2ac8d1a3c4d9"
      },
      "execution_count": null,
      "outputs": [
        {
          "output_type": "stream",
          "name": "stdout",
          "text": [
            "[0 1 2]\n",
            "(3,)\n",
            "[[3 4 5]]\n",
            "(1, 3)\n",
            "[[[0 1 2]\n",
            "  [3 4 5]]]\n",
            "(1, 2, 3)\n"
          ]
        }
      ]
    },
    {
      "cell_type": "code",
      "source": [
        "con = np.concatenate((arr, arr))\n",
        "print(con)\n",
        "print(con.shape)\n",
        "con = np.concatenate((arr1, arr1))\n",
        "print(con)\n",
        "print(con.shape)\n",
        "con = np.concatenate((arr2, arr2))\n",
        "print(con)\n",
        "print(con.shape)"
      ],
      "metadata": {
        "colab": {
          "base_uri": "https://localhost:8080/"
        },
        "id": "xbMUjM_9PuGk",
        "outputId": "e00c288d-ba72-4e89-d2a5-dd499c4328aa"
      },
      "execution_count": null,
      "outputs": [
        {
          "output_type": "stream",
          "name": "stdout",
          "text": [
            "[0 1 2 0 1 2]\n",
            "(6,)\n",
            "[[3 4 5]\n",
            " [3 4 5]]\n",
            "(2, 3)\n",
            "[[[0 1 2]\n",
            "  [3 4 5]]\n",
            "\n",
            " [[0 1 2]\n",
            "  [3 4 5]]]\n",
            "(2, 2, 3)\n"
          ]
        }
      ]
    },
    {
      "cell_type": "code",
      "source": [
        "# concatenate two NumPy arrays column-wise by specifying axis=1\n",
        "# con = np.concatenate((arr, arr), axis = 1)\n",
        "# print(con)\n",
        "# print(con.shape)\n",
        "con = np.concatenate((arr1, arr1), axis = 1)\n",
        "print(con)\n",
        "print(con.shape)\n",
        "con = np.concatenate((arr2, arr2), axis = 1)\n",
        "print(con)\n",
        "print(con.shape)"
      ],
      "metadata": {
        "colab": {
          "base_uri": "https://localhost:8080/"
        },
        "id": "qbkf5AygPvXU",
        "outputId": "07ed2a8d-3ea9-4f94-fcf6-112a04bf17f2"
      },
      "execution_count": null,
      "outputs": [
        {
          "output_type": "stream",
          "name": "stdout",
          "text": [
            "[[3 4 5 3 4 5]]\n",
            "(1, 6)\n",
            "[[[0 1 2]\n",
            "  [3 4 5]\n",
            "  [0 1 2]\n",
            "  [3 4 5]]]\n",
            "(1, 4, 3)\n"
          ]
        }
      ]
    },
    {
      "cell_type": "code",
      "source": [
        "con = np.hstack((arr, arr))\n",
        "print(con)\n",
        "print(con.shape)\n",
        "con = np.hstack((arr1, arr1))\n",
        "print(con)\n",
        "print(con.shape)\n",
        "con = np.hstack((arr2, arr2))\n",
        "print(con)\n",
        "print(con.shape)"
      ],
      "metadata": {
        "colab": {
          "base_uri": "https://localhost:8080/"
        },
        "id": "gcLuIGSHPwjL",
        "outputId": "efc69944-e537-430d-af1c-ce93320f3a0d"
      },
      "execution_count": null,
      "outputs": [
        {
          "output_type": "stream",
          "name": "stdout",
          "text": [
            "[0 1 2 0 1 2]\n",
            "(6,)\n",
            "[[3 4 5 3 4 5]]\n",
            "(1, 6)\n",
            "[[[0 1 2]\n",
            "  [3 4 5]\n",
            "  [0 1 2]\n",
            "  [3 4 5]]]\n",
            "(1, 4, 3)\n"
          ]
        }
      ]
    },
    {
      "cell_type": "code",
      "source": [
        "con = np.vstack((arr, arr))\n",
        "print(con)\n",
        "print(con.shape)\n",
        "con = np.vstack((arr1, arr1))\n",
        "print(con)\n",
        "print(con.shape)\n",
        "con = np.vstack((arr2, arr2))\n",
        "print(con)\n",
        "print(con.shape)"
      ],
      "metadata": {
        "colab": {
          "base_uri": "https://localhost:8080/"
        },
        "id": "ODfschLcPyH_",
        "outputId": "f9f726e0-3266-48f9-b11f-ff8a3358ec94"
      },
      "execution_count": null,
      "outputs": [
        {
          "output_type": "stream",
          "name": "stdout",
          "text": [
            "[[0 1 2]\n",
            " [0 1 2]]\n",
            "(2, 3)\n",
            "[[3 4 5]\n",
            " [3 4 5]]\n",
            "(2, 3)\n",
            "[[[0 1 2]\n",
            "  [3 4 5]]\n",
            "\n",
            " [[0 1 2]\n",
            "  [3 4 5]]]\n",
            "(2, 2, 3)\n"
          ]
        }
      ]
    },
    {
      "cell_type": "code",
      "source": [
        "con = np.stack((arr, arr))\n",
        "print(con)\n",
        "print(con.shape)\n",
        "con = np.stack((arr1, arr1))\n",
        "print(con)\n",
        "print(con.shape)\n",
        "con = np.stack((arr2, arr2))\n",
        "print(con)\n",
        "print(con.shape)"
      ],
      "metadata": {
        "colab": {
          "base_uri": "https://localhost:8080/"
        },
        "id": "AdAo_R_UPzfl",
        "outputId": "665e5ea2-9d5b-4445-815f-481840b1f6ac"
      },
      "execution_count": null,
      "outputs": [
        {
          "output_type": "stream",
          "name": "stdout",
          "text": [
            "[[0 1 2]\n",
            " [0 1 2]]\n",
            "(2, 3)\n",
            "[[[3 4 5]]\n",
            "\n",
            " [[3 4 5]]]\n",
            "(2, 1, 3)\n",
            "[[[[0 1 2]\n",
            "   [3 4 5]]]\n",
            "\n",
            "\n",
            " [[[0 1 2]\n",
            "   [3 4 5]]]]\n",
            "(2, 1, 2, 3)\n"
          ]
        }
      ]
    },
    {
      "cell_type": "code",
      "source": [
        "con = np.dstack((arr, arr)) # Stacking Along Height (depth)\n",
        "print(con)\n",
        "print(con.shape)\n",
        "con = np.dstack((arr1, arr1))\n",
        "print(con)\n",
        "print(con.shape)\n",
        "con = np.dstack((arr2, arr2))\n",
        "print(con)\n",
        "print(con.shape)"
      ],
      "metadata": {
        "id": "Ez9in7mIP2ZK"
      },
      "execution_count": null,
      "outputs": []
    },
    {
      "cell_type": "markdown",
      "source": [
        "# Matplotlib"
      ],
      "metadata": {
        "id": "rTYRBCJLR4hI"
      }
    },
    {
      "cell_type": "code",
      "source": [
        "import matplotlib.pyplot as plt"
      ],
      "metadata": {
        "id": "zhlqvYXVR5SI"
      },
      "execution_count": null,
      "outputs": []
    },
    {
      "cell_type": "code",
      "source": [
        "X = iris.data[:, :2]  # we only take the first two features.\n",
        "y = iris.target\n",
        "\n",
        "plt.figure(2, figsize=(8, 6))\n",
        "# num：圖像編碼或者名稱，數字是編碼，字符串是名稱\n",
        "# figsize：寬和高，單位是英尺\n",
        "# dpi：指定繪圖對象的分辨率，即每英寸多少個像素，缺省值為80\n",
        "# facecolor：背景顏色\n",
        "# edgecolor：邊框顏色\n",
        "# frameon：是否顯示邊框\n",
        "\n",
        "plt.clf() # clear the current figure\n",
        "\n",
        "plt.scatter(X[:, 0], X[:, 1], c=y, cmap=plt.cm.Set1, edgecolor=\"k\")\n",
        "plt.xlabel(\"Sepal length\", size=18)\n",
        "plt.ylabel(\"Sepal width\", size=18)\n",
        "\n",
        "plt.xticks(())\n",
        "plt.yticks(())\n",
        "\n",
        "# plt.title('y')\n",
        "# plt.colorbar()\n",
        "# plt.show()"
      ],
      "metadata": {
        "colab": {
          "base_uri": "https://localhost:8080/",
          "height": 397
        },
        "id": "dk2d4mZQR8CK",
        "outputId": "8dbaf630-b304-4719-f307-f9c1d441be7c"
      },
      "execution_count": null,
      "outputs": [
        {
          "output_type": "execute_result",
          "data": {
            "text/plain": [
              "([], <a list of 0 Text major ticklabel objects>)"
            ]
          },
          "metadata": {},
          "execution_count": 15
        },
        {
          "output_type": "display_data",
          "data": {
            "text/plain": [
              "<Figure size 576x432 with 1 Axes>"
            ],
            "image/png": "[encoded data removed]"
          },
          "metadata": {}
        }
      ]
    },
    {
      "cell_type": "code",
      "source": [],
      "metadata": {
        "id": "4Su36-_HSChS"
      },
      "execution_count": null,
      "outputs": []
    },
    {
      "cell_type": "markdown",
      "source": [
        "# Seaborn\n",
        "\n",
        "這個套件看起來是要用 pandas 的 dataframe\n",
        "\n",
        "https://seaborn.pydata.org/tutorial/introduction.html\n"
      ],
      "metadata": {
        "id": "9Sc2-wIDSLoH"
      }
    },
    {
      "cell_type": "code",
      "source": [
        "import seaborn as sns"
      ],
      "metadata": {
        "id": "vsUt7IJjSM71"
      },
      "execution_count": null,
      "outputs": []
    },
    {
      "cell_type": "code",
      "source": [
        "# np.array -> pd.dataframe\n",
        "iris_df = pd.DataFrame(iris.data)\n",
        "# add a new column to the end of a pandas DataFrame\n",
        "iris_df = iris_df.assign(target = iris.target)\n",
        "# add column names to a pd df\n",
        "iris_df.columns = ['Sepal length', 'Sepal width', 'Petal length', 'Petal width', 'Labels']\n",
        "iris_df.columns[0]"
      ],
      "metadata": {
        "colab": {
          "base_uri": "https://localhost:8080/",
          "height": 35
        },
        "id": "MxGjwit3SO2I",
        "outputId": "35a937e5-746d-43a8-a474-91b5c9b2c4ac"
      },
      "execution_count": null,
      "outputs": [
        {
          "output_type": "execute_result",
          "data": {
            "text/plain": [
              "'Sepal length'"
            ],
            "application/vnd.google.colaboratory.intrinsic+json": {
              "type": "string"
            }
          },
          "metadata": {},
          "execution_count": 20
        }
      ]
    },
    {
      "cell_type": "code",
      "source": [
        "sns.set_context(\"notebook\")\n",
        "# sns.scatterplot(x=\"Sepal length\",\n",
        "#                 y=\"Sepal width\",\n",
        "#                 data=iris_df)\n",
        "\n",
        "\n",
        "\n",
        "sns.scatterplot(x = iris_df[iris_df.columns[0]], y = iris_df[iris_df.columns[1]])\n"
      ],
      "metadata": {
        "colab": {
          "base_uri": "https://localhost:8080/",
          "height": 305
        },
        "id": "jZ7hVtqHSROp",
        "outputId": "ad386d95-12ef-4a4d-cb57-430be6fb836f"
      },
      "execution_count": null,
      "outputs": [
        {
          "output_type": "execute_result",
          "data": {
            "text/plain": [
              "<matplotlib.axes._subplots.AxesSubplot at 0x7f1b7323dd10>"
            ]
          },
          "metadata": {},
          "execution_count": 18
        },
        {
          "output_type": "display_data",
          "data": {
            "text/plain": [
              "<Figure size 432x288 with 1 Axes>"
            ],
            "image/png": "[encoded data removed]"
          },
          "metadata": {
            "needs_background": "light"
          }
        }
      ]
    },
    {
      "cell_type": "markdown",
      "source": [
        "We can make scatter plots with Penguin data using Seaborn’s scatterplot() function and  improve the simple version using:\n",
        "\n",
        "1. increase **the figure size** using plt.figure(figsize=(10,8)) function\n",
        "2. increase **Axes tick labels** using Seaborn’s set_context() function for all the plots in the notebook\n",
        "3. increase **the data point size** in the scatter plot using the argument “s” in Seaborn’s scatterplot() function\n",
        "4. change **the axis labels and their sizes** using xlabel() and ylabel() functions in Matplotlib\n"
      ],
      "metadata": {
        "id": "NGKAckxvSWRv"
      }
    },
    {
      "cell_type": "code",
      "source": [
        "plt.figure(figsize=(8,8))\n",
        "sns.set_context(\"notebook\", font_scale=1.5)\n",
        "sns.scatterplot(x=\"Sepal length\",\n",
        "                y=\"Sepal width\",\n",
        "                data=iris_df,\n",
        "                s=100)\n",
        "plt.xlim(4, 8)\n",
        "plt.ylim(1.5, 5.5)\n",
        "plt.xlabel(\"Sepal length (cm)\", size=18)\n",
        "plt.ylabel(\"Sepal width (cm)\", size=18)\n",
        "plt.title(\"Iris dataset\", fontdict=None, loc='center', size=24)"
      ],
      "metadata": {
        "colab": {
          "base_uri": "https://localhost:8080/",
          "height": 558
        },
        "id": "uTKWsNelSYp8",
        "outputId": "a8edccd4-5cb4-40a4-ced6-468054cb016d"
      },
      "execution_count": null,
      "outputs": [
        {
          "output_type": "execute_result",
          "data": {
            "text/plain": [
              "Text(0.5, 1.0, 'Iris dataset')"
            ]
          },
          "metadata": {},
          "execution_count": 21
        },
        {
          "output_type": "display_data",
          "data": {
            "text/plain": [
              "<Figure size 576x576 with 1 Axes>"
            ],
            "image/png": "[encoded data removed]"
          },
          "metadata": {
            "needs_background": "light"
          }
        }
      ]
    },
    {
      "cell_type": "markdown",
      "source": [
        "We can **change the colors of data points** on the scatter plot **by a variable** in the dataframe using “hue” argument in Seaborn’s scatterplot() function.\n"
      ],
      "metadata": {
        "id": "SjOFtsacSf1-"
      }
    },
    {
      "cell_type": "code",
      "source": [
        "plt.figure(figsize=(8,8))\n",
        "sns.set_context(\"notebook\", font_scale=1.5)\n",
        "sns.scatterplot(x=\"Sepal length\",\n",
        "                y=\"Sepal width\",\n",
        "                s=100,\n",
        "                hue=\"Labels\",\n",
        "                data=iris_df)\n",
        "plt.xlim(4, 8)\n",
        "plt.ylim(1.5, 5.5)\n",
        "plt.xlabel(\"Sepal Length (cm)\", size=18)\n",
        "plt.ylabel(\"Sepal width (cm)\", size=18)"
      ],
      "metadata": {
        "colab": {
          "base_uri": "https://localhost:8080/",
          "height": 540
        },
        "id": "008bYy9qSZIC",
        "outputId": "0f2fc273-fb34-4061-fa0a-8d000a240a1f"
      },
      "execution_count": null,
      "outputs": [
        {
          "output_type": "execute_result",
          "data": {
            "text/plain": [
              "Text(0, 0.5, 'Sepal width (cm)')"
            ]
          },
          "metadata": {},
          "execution_count": 22
        },
        {
          "output_type": "display_data",
          "data": {
            "text/plain": [
              "<Figure size 576x576 with 1 Axes>"
            ],
            "image/png": "[encoded data removed]"
          },
          "metadata": {
            "needs_background": "light"
          }
        }
      ]
    },
    {
      "cell_type": "markdown",
      "source": [
        "# Torch"
      ],
      "metadata": {
        "id": "aHnN6qFzTe2K"
      }
    },
    {
      "cell_type": "markdown",
      "source": [
        "## slice tensor"
      ],
      "metadata": {
        "id": "XIZ0ISHiTm-F"
      }
    },
    {
      "cell_type": "code",
      "source": [
        "# The data changes [4, 161, 325] → [4, 161, 324] by removing the first element in the 3rd dimension\n",
        "import torch\n",
        "\n",
        "# ver 1\n",
        "a = torch.randn(4, 161, 325)\n",
        "b = a[:, :, 1:]\n",
        "b.shape\n",
        "# ver 2\n",
        "a = torch.rand(4,161,325)\n",
        "b = a[..., 1:]            # or t = t[Ellipsis, 1:] Here, Ellipsis indicate rest of dims\n",
        "b.shape"
      ],
      "metadata": {
        "id": "P_scvKeuTgPS"
      },
      "execution_count": null,
      "outputs": []
    },
    {
      "cell_type": "markdown",
      "source": [
        "# Useful\n"
      ],
      "metadata": {
        "id": "zh74EabGTFE8"
      }
    },
    {
      "cell_type": "markdown",
      "source": [
        "## read files"
      ],
      "metadata": {
        "id": "NPHZCvKuTsCx"
      }
    },
    {
      "cell_type": "code",
      "source": [
        "# read csv file\n",
        "path = \"/Users/folder\"\n",
        "with open(os.path.join(path, 'sub-fulder',\"filename.csv\"), 'r', encoding='UTF-8-sig') as data_file:\n",
        "\n",
        "    csv_data = csv.reader(data_file, delimiter=',')\n",
        "    next(csv_data, None) # skip one item(row) before your loop, simply call next(data, None)\n",
        "    data = {} # dictionary\n",
        "\n",
        "    for row in csv_data:\n",
        "        # first column = key, second and third column = values\n",
        "        data[row[0]] = (float(row[1]), float(row[2]))\n",
        "\n",
        "    return data"
      ],
      "metadata": {
        "id": "EWXChQl1Tr6G"
      },
      "execution_count": null,
      "outputs": []
    },
    {
      "cell_type": "markdown",
      "source": [
        "## dictionary"
      ],
      "metadata": {
        "id": "wf2uDx3SUQUs"
      }
    },
    {
      "cell_type": "code",
      "source": [
        "# Get dictionary keys as a list\n",
        "def getList(dict):\n",
        "    return dict.keys()\n",
        "dict = {1:'Geeks', 2:'for', 3:'geeks'}\n",
        "print(getList(dict))"
      ],
      "metadata": {
        "id": "Nnru1giKUSI5"
      },
      "execution_count": null,
      "outputs": []
    },
    {
      "cell_type": "markdown",
      "source": [
        "## for"
      ],
      "metadata": {
        "id": "UYUOF0G2UEhB"
      }
    },
    {
      "cell_type": "code",
      "source": [
        "# Stop a for loop when i == 3\n",
        "for i in range(10):\n",
        "    if (i==3):\n",
        "        break"
      ],
      "metadata": {
        "id": "HuD_FKx7UFHC"
      },
      "execution_count": null,
      "outputs": []
    },
    {
      "cell_type": "markdown",
      "source": [],
      "metadata": {
        "id": "zRMdzfZ0BVTt"
      }
    },
    {
      "cell_type": "markdown",
      "source": [
        "## type conversion"
      ],
      "metadata": {
        "id": "TojsUOr6TTR_"
      }
    },
    {
      "cell_type": "code",
      "source": [
        "import numpy as np\n",
        "import torch\n",
        "\n",
        "\n",
        "list = [1,2,3]\n",
        "tensor = torch.tensor([0, 1])\n",
        "ndarray = np.array([1,2,3])\n",
        "\n",
        "# list to torch.Tensor\n",
        "tensor=torch.Tensor(list)\n",
        "# list to numpy\n",
        "ndarray = np.array(list)\n",
        "\n",
        "# torch.Tensor to numpy\n",
        "ndarray = tensor.numpy()\n",
        "# torch.Tensor to list\n",
        "list = tensor.numpy().tolist() # 先转 numpy，后转 list\n",
        "\n",
        "# numpy to torch.Tensor\n",
        "tensor = torch.from_numpy(ndarray)\n",
        "# numpy to list\n",
        "list = ndarray.tolist()"
      ],
      "metadata": {
        "id": "t1ZojBE7TIME"
      },
      "execution_count": null,
      "outputs": []
    },
    {
      "cell_type": "markdown",
      "source": [
        "## string"
      ],
      "metadata": {
        "id": "dRg-G_kPTWaQ"
      }
    },
    {
      "cell_type": "code",
      "source": [
        "# Does a list or a string contain a specific string?\n",
        "\"foo\" in \"foobar\"\n",
        "\n",
        "\"foo\" in [\"bar\", \"foo\", \"foobar\"]\n",
        "\n",
        "\"Foo\" not in [\"bar\", \"foo\", \"foobar\"]"
      ],
      "metadata": {
        "id": "SKy_88WnTJMs"
      },
      "execution_count": null,
      "outputs": []
    },
    {
      "cell_type": "markdown",
      "source": [
        "## iterator"
      ],
      "metadata": {
        "id": "0WYl0J3QT6eA"
      }
    },
    {
      "cell_type": "code",
      "source": [
        "# source: https://www.w3schools.com/python/python_iterators.asp\n",
        "\n",
        "# show usage of iter() and next()\n",
        "# An iterator is an object that contains a countable number of values.\n",
        "# Lists, tuples, dictionaries, and sets are all iterable objects. They are iterable containers which you can get an iterator from.\n",
        "# All these objects have a iter() method which is used to get an iterator.\n",
        "mytuple = (\"apple\", \"banana\", \"cherry\")\n",
        "myit = iter(mytuple)\n",
        "print(next(myit))\n",
        "\n",
        "# create an iterator\n",
        "class MyNumbers:\n",
        "    def __iter__(self):\n",
        "        self.a = 1\n",
        "        return self\n",
        "\n",
        "    def __next__(self):\n",
        "        x = self.a\n",
        "        self.a += 2\n",
        "        return x\n",
        "\n",
        "myclass = MyNumbers()\n",
        "myiter = iter(myclass)\n",
        "print(next(myiter)) # 1\n",
        "print(next(myiter)) # 3\n",
        "\n",
        "# create an iterator with StopIteration that avoid unlimit iteration\n",
        "class MyNumbers:\n",
        "    def __iter__(self):\n",
        "        self.a = 1\n",
        "        return self\n",
        "\n",
        "    def __next__(self):\n",
        "        if self.a <= 20:\n",
        "            x = self.a\n",
        "            self.a += 1\n",
        "            return x\n",
        "    else:\n",
        "        raise StopIteration\n",
        "\n",
        "myclass = MyNumbers()\n",
        "myiter = iter(myclass)\n",
        "\n",
        "for x in myiter:\n",
        "    print(x) # 1,2,...,20"
      ],
      "metadata": {
        "id": "XNirqdtKT7On"
      },
      "execution_count": null,
      "outputs": []
    },
    {
      "cell_type": "markdown",
      "source": [
        "## List"
      ],
      "metadata": {
        "id": "HDhf4X5RXocE"
      }
    },
    {
      "cell_type": "markdown",
      "source": [
        "## List comprehensions\n",
        "List comprehensions are one of Python's most beloved and unique features. The easiest way to understand them is probably to just look at a few examples:\n"
      ],
      "metadata": {
        "id": "9z6k6p4A6-Uh"
      }
    },
    {
      "cell_type": "code",
      "source": [
        "\n",
        "squares = [n**2 for n in range(10)]\n",
        "squares"
      ],
      "metadata": {
        "colab": {
          "base_uri": "https://localhost:8080/"
        },
        "id": "7zpB7QAWyG9_",
        "outputId": "1bf83e55-8abc-4cef-fc3b-fb9156600676"
      },
      "execution_count": null,
      "outputs": [
        {
          "output_type": "execute_result",
          "data": {
            "text/plain": [
              "[0, 1, 4, 9, 16, 25, 36, 49, 64, 81]"
            ]
          },
          "metadata": {},
          "execution_count": 28
        }
      ]
    },
    {
      "cell_type": "code",
      "source": [
        "planets = ['Mercury', 'Venus', 'Earth', 'Mars', 'Jupiter', 'Saturn', 'Uranus', 'Neptune']\n",
        "short_planets = [planet for planet in planets if len(planet) < 6]\n",
        "short_planets"
      ],
      "metadata": {
        "colab": {
          "base_uri": "https://localhost:8080/"
        },
        "id": "afGMCBlo7WFZ",
        "outputId": "4766ec91-f28f-4106-dd0f-635b844cdeb9"
      },
      "execution_count": null,
      "outputs": [
        {
          "output_type": "execute_result",
          "data": {
            "text/plain": [
              "['Venus', 'Earth', 'Mars']"
            ]
          },
          "metadata": {},
          "execution_count": 30
        }
      ]
    },
    {
      "cell_type": "markdown",
      "source": [
        "\n",
        "The \"brackets\" constructs a new list from an old one, this is called [list comprehension](https://docs.python.org/2/tutorial/datastructures.html#list-comprehensions).\n",
        "\n",
        "The basic idea with `[f(x) for x in xs if condition]` is:\n",
        "```python\n",
        "def list_comprehension(xs):\n",
        "    result = []\n",
        "    for x in xs:\n",
        "        if condition:\n",
        "            result.append(f(x))\n",
        "    return result\n",
        "```\n",
        "The f(x) can be any expression, containing x or not."
      ],
      "metadata": {
        "id": "oW6-iWO2rrTD"
      }
    },
    {
      "cell_type": "markdown",
      "source": [
        "#ifelse"
      ],
      "metadata": {
        "id": "D_GV5M52i3Sz"
      }
    },
    {
      "cell_type": "code",
      "source": [
        "# total_candies = 91\n",
        "total_candies = 1\n",
        "\n",
        "if total_candies == 1:\n",
        "    print(\"Splitting 1 candy\")\n",
        "else:\n",
        "    print(\"Splitting\", total_candies, \"candies\")\n",
        "\n",
        "# Here's a slightly more succinct solution using a conditional expression:\n",
        "print(\"Splitting\", total_candies, \"candy\" if total_candies == 1 else \"candies\")"
      ],
      "metadata": {
        "colab": {
          "base_uri": "https://localhost:8080/"
        },
        "id": "mTNd63xai5Tt",
        "outputId": "b8f1493a-c89e-464a-c861-ebc7dc58d992"
      },
      "execution_count": null,
      "outputs": [
        {
          "output_type": "stream",
          "name": "stdout",
          "text": [
            "Splitting 1 candy\n",
            "Splitting 1 candy\n"
          ]
        }
      ]
    },
    {
      "cell_type": "markdown",
      "source": [
        "# Optuna\n",
        "\n",
        "1. 多個模型寫在一起的 example [link](https://neptune.ai/blog/optuna-guide-how-to-monitor-hyper-parameter-optimization-runs)\n",
        "2. 簡單的explanantion [link](https://ithelp.ithome.com.tw/articles/10276835?sc=iThelpR)\n",
        "\n",
        "DS_HW_6 和 DS_HW_7 都有練習"
      ],
      "metadata": {
        "id": "wJDSmPA1EQEV"
      }
    },
    {
      "cell_type": "markdown",
      "source": [
        "# Pandas\n",
        "\n",
        "Summary Functions and Maps\n",
        "`map`\n",
        "`lamda`\n",
        "`apply`"
      ],
      "metadata": {
        "id": "iSijHdwWlbUp"
      }
    },
    {
      "cell_type": "code",
      "source": [
        "grades = {\n",
        "    \"name\": [\"Mike\", \"Sherry\", \"Cindy\", \"John\"],\n",
        "    \"math\": [80, 75, 93, 86],\n",
        "    \"chinese\": [63, 90, 85, 70]\n",
        "}\n",
        "\n",
        "df = pd.DataFrame(grades)"
      ],
      "metadata": {
        "id": "az2RtZGRowZD"
      },
      "execution_count": null,
      "outputs": []
    },
    {
      "cell_type": "code",
      "source": [
        "df.loc[:,'name']"
      ],
      "metadata": {
        "colab": {
          "base_uri": "https://localhost:8080/"
        },
        "id": "-yjE5YfpwVUX",
        "outputId": "da22d4fd-f547-4ac8-f9d6-ba08f7f26f63"
      },
      "execution_count": null,
      "outputs": [
        {
          "output_type": "execute_result",
          "data": {
            "text/plain": [
              "0      Mike\n",
              "1    Sherry\n",
              "2     Cindy\n",
              "3      John\n",
              "Name: name, dtype: object"
            ]
          },
          "metadata": {},
          "execution_count": 6
        }
      ]
    },
    {
      "cell_type": "code",
      "source": [
        "df"
      ],
      "metadata": {
        "colab": {
          "base_uri": "https://localhost:8080/",
          "height": 175
        },
        "id": "t7iYqIIRwbTL",
        "outputId": "9dead095-6115-4b43-db7a-408b70f55f46"
      },
      "execution_count": null,
      "outputs": [
        {
          "output_type": "execute_result",
          "data": {
            "text/plain": [
              "     name  math  chinese\n",
              "0    Mike    80       63\n",
              "1  Sherry    75       90\n",
              "2   Cindy    93       85\n",
              "3    John    86       70"
            ],
            "text/html": [
              "\n",
              "  <div id=\"df-a5e6668e-4a03-4123-8ecd-64936d597154\">\n",
              "    <div class=\"colab-df-container\">\n",
              "      <div>\n",
              "<style scoped>\n",
              "    .dataframe tbody tr th:only-of-type {\n",
              "        vertical-align: middle;\n",
              "    }\n",
              "\n",
              "    .dataframe tbody tr th {\n",
              "        vertical-align: top;\n",
              "    }\n",
              "\n",
              "    .dataframe thead th {\n",
              "        text-align: right;\n",
              "    }\n",
              "</style>\n",
              "<table border=\"1\" class=\"dataframe\">\n",
              "  <thead>\n",
              "    <tr style=\"text-align: right;\">\n",
              "      <th></th>\n",
              "      <th>name</th>\n",
              "      <th>math</th>\n",
              "      <th>chinese</th>\n",
              "    </tr>\n",
              "  </thead>\n",
              "  <tbody>\n",
              "    <tr>\n",
              "      <th>0</th>\n",
              "      <td>Mike</td>\n",
              "      <td>80</td>\n",
              "      <td>63</td>\n",
              "    </tr>\n",
              "    <tr>\n",
              "      <th>1</th>\n",
              "      <td>Sherry</td>\n",
              "      <td>75</td>\n",
              "      <td>90</td>\n",
              "    </tr>\n",
              "    <tr>\n",
              "      <th>2</th>\n",
              "      <td>Cindy</td>\n",
              "      <td>93</td>\n",
              "      <td>85</td>\n",
              "    </tr>\n",
              "    <tr>\n",
              "      <th>3</th>\n",
              "      <td>John</td>\n",
              "      <td>86</td>\n",
              "      <td>70</td>\n",
              "    </tr>\n",
              "  </tbody>\n",
              "</table>\n",
              "</div>\n",
              "      <button class=\"colab-df-convert\" onclick=\"convertToInteractive('df-a5e6668e-4a03-4123-8ecd-64936d597154')\"\n",
              "              title=\"Convert this dataframe to an interactive table.\"\n",
              "              style=\"display:none;\">\n",
              "        \n",
              "  <svg xmlns=\"http://www.w3.org/2000/svg\" height=\"24px\"viewBox=\"0 0 24 24\"\n",
              "       width=\"24px\">\n",
              "    <path d=\"M0 0h24v24H0V0z\" fill=\"none\"/>\n",
              "    <path d=\"M18.56 5.44l.94 2.06.94-2.06 2.06-.94-2.06-.94-.94-2.06-.94 2.06-2.06.94zm-11 1L8.5 8.5l.94-2.06 2.06-.94-2.06-.94L8.5 2.5l-.94 2.06-2.06.94zm10 10l.94 2.06.94-2.06 2.06-.94-2.06-.94-.94-2.06-.94 2.06-2.06.94z\"/><path d=\"M17.41 7.96l-1.37-1.37c-.4-.4-.92-.59-1.43-.59-.52 0-1.04.2-1.43.59L10.3 9.45l-7.72 7.72c-.78.78-.78 2.05 0 2.83L4 21.41c.39.39.9.59 1.41.59.51 0 1.02-.2 1.41-.59l7.78-7.78 2.81-2.81c.8-.78.8-2.07 0-2.86zM5.41 20L4 18.59l7.72-7.72 1.47 1.35L5.41 20z\"/>\n",
              "  </svg>\n",
              "      </button>\n",
              "      \n",
              "  <style>\n",
              "    .colab-df-container {\n",
              "      display:flex;\n",
              "      flex-wrap:wrap;\n",
              "      gap: 12px;\n",
              "    }\n",
              "\n",
              "    .colab-df-convert {\n",
              "      background-color: #E8F0FE;\n",
              "      border: none;\n",
              "      border-radius: 50%;\n",
              "      cursor: pointer;\n",
              "      display: none;\n",
              "      fill: #1967D2;\n",
              "      height: 32px;\n",
              "      padding: 0 0 0 0;\n",
              "      width: 32px;\n",
              "    }\n",
              "\n",
              "    .colab-df-convert:hover {\n",
              "      background-color: #E2EBFA;\n",
              "      box-shadow: 0px 1px 2px rgba(60, 64, 67, 0.3), 0px 1px 3px 1px rgba(60, 64, 67, 0.15);\n",
              "      fill: #174EA6;\n",
              "    }\n",
              "\n",
              "    [theme=dark] .colab-df-convert {\n",
              "      background-color: #3B4455;\n",
              "      fill: #D2E3FC;\n",
              "    }\n",
              "\n",
              "    [theme=dark] .colab-df-convert:hover {\n",
              "      background-color: #434B5C;\n",
              "      box-shadow: 0px 1px 3px 1px rgba(0, 0, 0, 0.15);\n",
              "      filter: drop-shadow(0px 1px 2px rgba(0, 0, 0, 0.3));\n",
              "      fill: #FFFFFF;\n",
              "    }\n",
              "  </style>\n",
              "\n",
              "      <script>\n",
              "        const buttonEl =\n",
              "          document.querySelector('#df-a5e6668e-4a03-4123-8ecd-64936d597154 button.colab-df-convert');\n",
              "        buttonEl.style.display =\n",
              "          google.colab.kernel.accessAllowed ? 'block' : 'none';\n",
              "\n",
              "        async function convertToInteractive(key) {\n",
              "          const element = document.querySelector('#df-a5e6668e-4a03-4123-8ecd-64936d597154');\n",
              "          const dataTable =\n",
              "            await google.colab.kernel.invokeFunction('convertToInteractive',\n",
              "                                                     [key], {});\n",
              "          if (!dataTable) return;\n",
              "\n",
              "          const docLinkHtml = 'Like what you see? Visit the ' +\n",
              "            '<a target=\"_blank\" href=https://colab.research.google.com/notebooks/data_table.ipynb>data table notebook</a>'\n",
              "            + ' to learn more about interactive tables.';\n",
              "          element.innerHTML = '';\n",
              "          dataTable['output_type'] = 'display_data';\n",
              "          await google.colab.output.renderOutput(dataTable, element);\n",
              "          const docLink = document.createElement('div');\n",
              "          docLink.innerHTML = docLinkHtml;\n",
              "          element.appendChild(docLink);\n",
              "        }\n",
              "      </script>\n",
              "    </div>\n",
              "  </div>\n",
              "  "
            ]
          },
          "metadata": {},
          "execution_count": 5
        }
      ]
    },
    {
      "cell_type": "code",
      "source": [],
      "metadata": {
        "id": "W0K7sNN4wrE2"
      },
      "execution_count": null,
      "outputs": []
    }
  ]
}