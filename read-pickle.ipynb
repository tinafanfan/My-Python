{
 "cells": [
  {
   "cell_type": "code",
   "execution_count": 1,
   "metadata": {},
   "outputs": [],
   "source": [
    "import pandas as pd\n",
    "import numpy as np\n",
    "import matplotlib.pyplot as plt\n",
    "import seaborn as sns"
   ]
  },
  {
   "cell_type": "code",
   "execution_count": 92,
   "metadata": {},
   "outputs": [],
   "source": [
    "load = pd.read_pickle(\"load.pickle\")  \n",
    "loadfrcst = pd.read_pickle(\"loadfrcst.pickle\")  \n",
    "price = pd.read_pickle(\"price.pickle\")  \n",
    "pricefrcst = pd.read_pickle(\"pricefrcst.pickle\")  \n",
    "\n",
    "load['Date'] = pd.to_datetime(load['Date'], format='%m/%d/%Y %I:%M:%S %p')\n"
   ]
  },
  {
   "cell_type": "code",
   "execution_count": 93,
   "metadata": {},
   "outputs": [
    {
     "data": {
      "text/html": [
       "<div>\n",
       "<style scoped>\n",
       "    .dataframe tbody tr th:only-of-type {\n",
       "        vertical-align: middle;\n",
       "    }\n",
       "\n",
       "    .dataframe tbody tr th {\n",
       "        vertical-align: top;\n",
       "    }\n",
       "\n",
       "    .dataframe thead th {\n",
       "        text-align: right;\n",
       "    }\n",
       "</style>\n",
       "<table border=\"1\" class=\"dataframe\">\n",
       "  <thead>\n",
       "    <tr style=\"text-align: right;\">\n",
       "      <th></th>\n",
       "      <th>Date</th>\n",
       "      <th>Load</th>\n",
       "      <th>Zone</th>\n",
       "    </tr>\n",
       "  </thead>\n",
       "  <tbody>\n",
       "    <tr>\n",
       "      <th>0</th>\n",
       "      <td>2006-02-06 00:00:00</td>\n",
       "      <td>995.6000</td>\n",
       "      <td>CAPITL</td>\n",
       "    </tr>\n",
       "    <tr>\n",
       "      <th>1</th>\n",
       "      <td>2006-02-06 00:00:00</td>\n",
       "      <td>1767.1000</td>\n",
       "      <td>CENTRL</td>\n",
       "    </tr>\n",
       "    <tr>\n",
       "      <th>2</th>\n",
       "      <td>2006-02-06 00:00:00</td>\n",
       "      <td>556.7000</td>\n",
       "      <td>DUNWOD</td>\n",
       "    </tr>\n",
       "    <tr>\n",
       "      <th>3</th>\n",
       "      <td>2006-02-06 00:00:00</td>\n",
       "      <td>992.3000</td>\n",
       "      <td>GENESE</td>\n",
       "    </tr>\n",
       "    <tr>\n",
       "      <th>4</th>\n",
       "      <td>2006-02-06 00:00:00</td>\n",
       "      <td>966.9000</td>\n",
       "      <td>HUD VL</td>\n",
       "    </tr>\n",
       "    <tr>\n",
       "      <th>...</th>\n",
       "      <td>...</td>\n",
       "      <td>...</td>\n",
       "      <td>...</td>\n",
       "    </tr>\n",
       "    <tr>\n",
       "      <th>1566418</th>\n",
       "      <td>2023-09-24 20:00:00</td>\n",
       "      <td>774.1452</td>\n",
       "      <td>MHK VL</td>\n",
       "    </tr>\n",
       "    <tr>\n",
       "      <th>1566419</th>\n",
       "      <td>2023-09-24 20:00:00</td>\n",
       "      <td>254.1218</td>\n",
       "      <td>MILLWD</td>\n",
       "    </tr>\n",
       "    <tr>\n",
       "      <th>1566420</th>\n",
       "      <td>2023-09-24 20:00:00</td>\n",
       "      <td>5097.6534</td>\n",
       "      <td>N.Y.C.</td>\n",
       "    </tr>\n",
       "    <tr>\n",
       "      <th>1566421</th>\n",
       "      <td>2023-09-24 20:00:00</td>\n",
       "      <td>638.6140</td>\n",
       "      <td>NORTH</td>\n",
       "    </tr>\n",
       "    <tr>\n",
       "      <th>1566422</th>\n",
       "      <td>2023-09-24 20:00:00</td>\n",
       "      <td>1607.8047</td>\n",
       "      <td>WEST</td>\n",
       "    </tr>\n",
       "  </tbody>\n",
       "</table>\n",
       "<p>1566423 rows × 3 columns</p>\n",
       "</div>"
      ],
      "text/plain": [
       "                       Date       Load    Zone\n",
       "0       2006-02-06 00:00:00   995.6000  CAPITL\n",
       "1       2006-02-06 00:00:00  1767.1000  CENTRL\n",
       "2       2006-02-06 00:00:00   556.7000  DUNWOD\n",
       "3       2006-02-06 00:00:00   992.3000  GENESE\n",
       "4       2006-02-06 00:00:00   966.9000  HUD VL\n",
       "...                     ...        ...     ...\n",
       "1566418 2023-09-24 20:00:00   774.1452  MHK VL\n",
       "1566419 2023-09-24 20:00:00   254.1218  MILLWD\n",
       "1566420 2023-09-24 20:00:00  5097.6534  N.Y.C.\n",
       "1566421 2023-09-24 20:00:00   638.6140   NORTH\n",
       "1566422 2023-09-24 20:00:00  1607.8047    WEST\n",
       "\n",
       "[1566423 rows x 3 columns]"
      ]
     },
     "execution_count": 93,
     "metadata": {},
     "output_type": "execute_result"
    }
   ],
   "source": [
    "load"
   ]
  },
  {
   "cell_type": "markdown",
   "metadata": {},
   "source": [
    "# duplicate\n",
    "delete duplicates according to \n",
    "1. delete 0\n",
    "2. take an average of duplicates"
   ]
  },
  {
   "cell_type": "code",
   "execution_count": 4,
   "metadata": {},
   "outputs": [
    {
     "name": "stdout",
     "output_type": "stream",
     "text": [
      "(3421, 3)\n"
     ]
    }
   ],
   "source": [
    "duplicates = load[load.duplicated(subset=['Date', 'Zone'])]\n",
    "print(duplicates.shape)\n",
    "# Findings: 2 types of duplicates\n",
    "type1 = load[load['Date'] == '2006-10-29 01:00:00'] # delete 0; 33 rows\n",
    "type2 = load[load['Date'] == '2022-11-06 01:00:00'] # average; 3388 rows"
   ]
  },
  {
   "cell_type": "code",
   "execution_count": 5,
   "metadata": {},
   "outputs": [
    {
     "name": "stdout",
     "output_type": "stream",
     "text": [
      "(1566423, 3)\n",
      "(1566390, 3)\n"
     ]
    },
    {
     "data": {
      "text/html": [
       "<div>\n",
       "<style scoped>\n",
       "    .dataframe tbody tr th:only-of-type {\n",
       "        vertical-align: middle;\n",
       "    }\n",
       "\n",
       "    .dataframe tbody tr th {\n",
       "        vertical-align: top;\n",
       "    }\n",
       "\n",
       "    .dataframe thead th {\n",
       "        text-align: right;\n",
       "    }\n",
       "</style>\n",
       "<table border=\"1\" class=\"dataframe\">\n",
       "  <thead>\n",
       "    <tr style=\"text-align: right;\">\n",
       "      <th></th>\n",
       "      <th>Date</th>\n",
       "      <th>Load</th>\n",
       "      <th>Zone</th>\n",
       "    </tr>\n",
       "  </thead>\n",
       "  <tbody>\n",
       "    <tr>\n",
       "      <th>0</th>\n",
       "      <td>2006-02-06 00:00:00</td>\n",
       "      <td>995.6000</td>\n",
       "      <td>CAPITL</td>\n",
       "    </tr>\n",
       "    <tr>\n",
       "      <th>1</th>\n",
       "      <td>2006-02-06 00:00:00</td>\n",
       "      <td>1767.1000</td>\n",
       "      <td>CENTRL</td>\n",
       "    </tr>\n",
       "    <tr>\n",
       "      <th>2</th>\n",
       "      <td>2006-02-06 00:00:00</td>\n",
       "      <td>556.7000</td>\n",
       "      <td>DUNWOD</td>\n",
       "    </tr>\n",
       "    <tr>\n",
       "      <th>3</th>\n",
       "      <td>2006-02-06 00:00:00</td>\n",
       "      <td>992.3000</td>\n",
       "      <td>GENESE</td>\n",
       "    </tr>\n",
       "    <tr>\n",
       "      <th>4</th>\n",
       "      <td>2006-02-06 00:00:00</td>\n",
       "      <td>966.9000</td>\n",
       "      <td>HUD VL</td>\n",
       "    </tr>\n",
       "    <tr>\n",
       "      <th>...</th>\n",
       "      <td>...</td>\n",
       "      <td>...</td>\n",
       "      <td>...</td>\n",
       "    </tr>\n",
       "    <tr>\n",
       "      <th>1566418</th>\n",
       "      <td>2023-09-24 20:00:00</td>\n",
       "      <td>774.1452</td>\n",
       "      <td>MHK VL</td>\n",
       "    </tr>\n",
       "    <tr>\n",
       "      <th>1566419</th>\n",
       "      <td>2023-09-24 20:00:00</td>\n",
       "      <td>254.1218</td>\n",
       "      <td>MILLWD</td>\n",
       "    </tr>\n",
       "    <tr>\n",
       "      <th>1566420</th>\n",
       "      <td>2023-09-24 20:00:00</td>\n",
       "      <td>5097.6534</td>\n",
       "      <td>N.Y.C.</td>\n",
       "    </tr>\n",
       "    <tr>\n",
       "      <th>1566421</th>\n",
       "      <td>2023-09-24 20:00:00</td>\n",
       "      <td>638.6140</td>\n",
       "      <td>NORTH</td>\n",
       "    </tr>\n",
       "    <tr>\n",
       "      <th>1566422</th>\n",
       "      <td>2023-09-24 20:00:00</td>\n",
       "      <td>1607.8047</td>\n",
       "      <td>WEST</td>\n",
       "    </tr>\n",
       "  </tbody>\n",
       "</table>\n",
       "<p>1566390 rows × 3 columns</p>\n",
       "</div>"
      ],
      "text/plain": [
       "                       Date       Load    Zone\n",
       "0       2006-02-06 00:00:00   995.6000  CAPITL\n",
       "1       2006-02-06 00:00:00  1767.1000  CENTRL\n",
       "2       2006-02-06 00:00:00   556.7000  DUNWOD\n",
       "3       2006-02-06 00:00:00   992.3000  GENESE\n",
       "4       2006-02-06 00:00:00   966.9000  HUD VL\n",
       "...                     ...        ...     ...\n",
       "1566418 2023-09-24 20:00:00   774.1452  MHK VL\n",
       "1566419 2023-09-24 20:00:00   254.1218  MILLWD\n",
       "1566420 2023-09-24 20:00:00  5097.6534  N.Y.C.\n",
       "1566421 2023-09-24 20:00:00   638.6140   NORTH\n",
       "1566422 2023-09-24 20:00:00  1607.8047    WEST\n",
       "\n",
       "[1566390 rows x 3 columns]"
      ]
     },
     "execution_count": 5,
     "metadata": {},
     "output_type": "execute_result"
    }
   ],
   "source": [
    "# type1\n",
    "print(load.shape)\n",
    "load_drop = load.drop(load[(load['Date'].isin(duplicates['Date'])) & (load['Load']==0)].index) # 33 rows\n",
    "print(load_drop.shape)\n",
    "load_drop\n"
   ]
  },
  {
   "cell_type": "code",
   "execution_count": 6,
   "metadata": {},
   "outputs": [
    {
     "name": "stdout",
     "output_type": "stream",
     "text": [
      "(3388, 3)\n",
      "(1563002, 3)\n"
     ]
    },
    {
     "data": {
      "text/html": [
       "<div>\n",
       "<style scoped>\n",
       "    .dataframe tbody tr th:only-of-type {\n",
       "        vertical-align: middle;\n",
       "    }\n",
       "\n",
       "    .dataframe tbody tr th {\n",
       "        vertical-align: top;\n",
       "    }\n",
       "\n",
       "    .dataframe thead th {\n",
       "        text-align: right;\n",
       "    }\n",
       "</style>\n",
       "<table border=\"1\" class=\"dataframe\">\n",
       "  <thead>\n",
       "    <tr style=\"text-align: right;\">\n",
       "      <th></th>\n",
       "      <th>Date</th>\n",
       "      <th>Zone</th>\n",
       "      <th>Load</th>\n",
       "    </tr>\n",
       "  </thead>\n",
       "  <tbody>\n",
       "    <tr>\n",
       "      <th>0</th>\n",
       "      <td>2006-02-06 00:00:00</td>\n",
       "      <td>CAPITL</td>\n",
       "      <td>995.6000</td>\n",
       "    </tr>\n",
       "    <tr>\n",
       "      <th>1</th>\n",
       "      <td>2006-02-06 00:00:00</td>\n",
       "      <td>CENTRL</td>\n",
       "      <td>1767.1000</td>\n",
       "    </tr>\n",
       "    <tr>\n",
       "      <th>2</th>\n",
       "      <td>2006-02-06 00:00:00</td>\n",
       "      <td>DUNWOD</td>\n",
       "      <td>556.7000</td>\n",
       "    </tr>\n",
       "    <tr>\n",
       "      <th>3</th>\n",
       "      <td>2006-02-06 00:00:00</td>\n",
       "      <td>GENESE</td>\n",
       "      <td>992.3000</td>\n",
       "    </tr>\n",
       "    <tr>\n",
       "      <th>4</th>\n",
       "      <td>2006-02-06 00:00:00</td>\n",
       "      <td>HUD VL</td>\n",
       "      <td>966.9000</td>\n",
       "    </tr>\n",
       "    <tr>\n",
       "      <th>...</th>\n",
       "      <td>...</td>\n",
       "      <td>...</td>\n",
       "      <td>...</td>\n",
       "    </tr>\n",
       "    <tr>\n",
       "      <th>1562997</th>\n",
       "      <td>2023-09-24 20:00:00</td>\n",
       "      <td>MHK VL</td>\n",
       "      <td>774.1452</td>\n",
       "    </tr>\n",
       "    <tr>\n",
       "      <th>1562998</th>\n",
       "      <td>2023-09-24 20:00:00</td>\n",
       "      <td>MILLWD</td>\n",
       "      <td>254.1218</td>\n",
       "    </tr>\n",
       "    <tr>\n",
       "      <th>1562999</th>\n",
       "      <td>2023-09-24 20:00:00</td>\n",
       "      <td>N.Y.C.</td>\n",
       "      <td>5097.6534</td>\n",
       "    </tr>\n",
       "    <tr>\n",
       "      <th>1563000</th>\n",
       "      <td>2023-09-24 20:00:00</td>\n",
       "      <td>NORTH</td>\n",
       "      <td>638.6140</td>\n",
       "    </tr>\n",
       "    <tr>\n",
       "      <th>1563001</th>\n",
       "      <td>2023-09-24 20:00:00</td>\n",
       "      <td>WEST</td>\n",
       "      <td>1607.8047</td>\n",
       "    </tr>\n",
       "  </tbody>\n",
       "</table>\n",
       "<p>1563002 rows × 3 columns</p>\n",
       "</div>"
      ],
      "text/plain": [
       "                       Date    Zone       Load\n",
       "0       2006-02-06 00:00:00  CAPITL   995.6000\n",
       "1       2006-02-06 00:00:00  CENTRL  1767.1000\n",
       "2       2006-02-06 00:00:00  DUNWOD   556.7000\n",
       "3       2006-02-06 00:00:00  GENESE   992.3000\n",
       "4       2006-02-06 00:00:00  HUD VL   966.9000\n",
       "...                     ...     ...        ...\n",
       "1562997 2023-09-24 20:00:00  MHK VL   774.1452\n",
       "1562998 2023-09-24 20:00:00  MILLWD   254.1218\n",
       "1562999 2023-09-24 20:00:00  N.Y.C.  5097.6534\n",
       "1563000 2023-09-24 20:00:00   NORTH   638.6140\n",
       "1563001 2023-09-24 20:00:00    WEST  1607.8047\n",
       "\n",
       "[1563002 rows x 3 columns]"
      ]
     },
     "execution_count": 6,
     "metadata": {},
     "output_type": "execute_result"
    }
   ],
   "source": [
    "# type2\n",
    "duplicates_2 = load_drop[load_drop.duplicated(subset=['Date', 'Zone'])]\n",
    "print(duplicates_2.shape)\n",
    "load_drop = load_drop.groupby(['Date', 'Zone'])['Load'].mean().reset_index()\n",
    "print(load_drop.shape)\n",
    "load_drop"
   ]
  },
  {
   "cell_type": "code",
   "execution_count": 7,
   "metadata": {},
   "outputs": [],
   "source": [
    "load = load_drop"
   ]
  },
  {
   "cell_type": "markdown",
   "metadata": {},
   "source": [
    "# imputation"
   ]
  },
  {
   "cell_type": "code",
   "execution_count": 9,
   "metadata": {},
   "outputs": [
    {
     "data": {
      "text/plain": [
       "Timestamp('2006-02-06 00:00:00')"
      ]
     },
     "execution_count": 9,
     "metadata": {},
     "output_type": "execute_result"
    }
   ],
   "source": [
    "load['Date'].min()"
   ]
  },
  {
   "cell_type": "code",
   "execution_count": 10,
   "metadata": {},
   "outputs": [
    {
     "name": "stdout",
     "output_type": "stream",
     "text": [
      "(154557, 1)\n"
     ]
    },
    {
     "data": {
      "text/html": [
       "<div>\n",
       "<style scoped>\n",
       "    .dataframe tbody tr th:only-of-type {\n",
       "        vertical-align: middle;\n",
       "    }\n",
       "\n",
       "    .dataframe tbody tr th {\n",
       "        vertical-align: top;\n",
       "    }\n",
       "\n",
       "    .dataframe thead th {\n",
       "        text-align: right;\n",
       "    }\n",
       "</style>\n",
       "<table border=\"1\" class=\"dataframe\">\n",
       "  <thead>\n",
       "    <tr style=\"text-align: right;\">\n",
       "      <th></th>\n",
       "      <th>Date</th>\n",
       "    </tr>\n",
       "  </thead>\n",
       "  <tbody>\n",
       "    <tr>\n",
       "      <th>0</th>\n",
       "      <td>2006-02-06 00:00:00</td>\n",
       "    </tr>\n",
       "    <tr>\n",
       "      <th>1</th>\n",
       "      <td>2006-02-06 01:00:00</td>\n",
       "    </tr>\n",
       "    <tr>\n",
       "      <th>2</th>\n",
       "      <td>2006-02-06 02:00:00</td>\n",
       "    </tr>\n",
       "    <tr>\n",
       "      <th>3</th>\n",
       "      <td>2006-02-06 03:00:00</td>\n",
       "    </tr>\n",
       "    <tr>\n",
       "      <th>4</th>\n",
       "      <td>2006-02-06 04:00:00</td>\n",
       "    </tr>\n",
       "    <tr>\n",
       "      <th>...</th>\n",
       "      <td>...</td>\n",
       "    </tr>\n",
       "    <tr>\n",
       "      <th>154552</th>\n",
       "      <td>2023-09-24 16:00:00</td>\n",
       "    </tr>\n",
       "    <tr>\n",
       "      <th>154553</th>\n",
       "      <td>2023-09-24 17:00:00</td>\n",
       "    </tr>\n",
       "    <tr>\n",
       "      <th>154554</th>\n",
       "      <td>2023-09-24 18:00:00</td>\n",
       "    </tr>\n",
       "    <tr>\n",
       "      <th>154555</th>\n",
       "      <td>2023-09-24 19:00:00</td>\n",
       "    </tr>\n",
       "    <tr>\n",
       "      <th>154556</th>\n",
       "      <td>2023-09-24 20:00:00</td>\n",
       "    </tr>\n",
       "  </tbody>\n",
       "</table>\n",
       "<p>154557 rows × 1 columns</p>\n",
       "</div>"
      ],
      "text/plain": [
       "                      Date\n",
       "0      2006-02-06 00:00:00\n",
       "1      2006-02-06 01:00:00\n",
       "2      2006-02-06 02:00:00\n",
       "3      2006-02-06 03:00:00\n",
       "4      2006-02-06 04:00:00\n",
       "...                    ...\n",
       "154552 2023-09-24 16:00:00\n",
       "154553 2023-09-24 17:00:00\n",
       "154554 2023-09-24 18:00:00\n",
       "154555 2023-09-24 19:00:00\n",
       "154556 2023-09-24 20:00:00\n",
       "\n",
       "[154557 rows x 1 columns]"
      ]
     },
     "execution_count": 10,
     "metadata": {},
     "output_type": "execute_result"
    }
   ],
   "source": [
    "# 所有的 hour 時間點\n",
    "hours_df = pd.DataFrame({'Date': pd.date_range(start = load['Date'].min(), \n",
    "                                               end = load['Date'].max(), \n",
    "                                               freq = '1H') })\n",
    "print(hours_df.shape)\n",
    "hours_df"
   ]
  },
  {
   "cell_type": "code",
   "execution_count": 44,
   "metadata": {},
   "outputs": [
    {
     "name": "stdout",
     "output_type": "stream",
     "text": [
      "(142093, 3)\n",
      "(154557, 3)\n",
      "12464\n",
      "                      Date    Zone  Load\n",
      "37     2006-02-07 13:00:00  CAPITL   NaN\n",
      "38     2006-02-07 14:00:00  CAPITL   NaN\n",
      "39     2006-02-07 15:00:00  CAPITL   NaN\n",
      "40     2006-02-07 16:00:00  CAPITL   NaN\n",
      "41     2006-02-07 17:00:00  CAPITL   NaN\n",
      "...                    ...     ...   ...\n",
      "151157 2023-05-06 05:00:00  CAPITL   NaN\n",
      "151918 2023-06-06 22:00:00  CAPITL   NaN\n",
      "151919 2023-06-06 23:00:00  CAPITL   NaN\n",
      "153724 2023-08-21 04:00:00  CAPITL   NaN\n",
      "153726 2023-08-21 06:00:00  CAPITL   NaN\n",
      "\n",
      "[12464 rows x 3 columns]\n",
      "0\n",
      "                  Date    Zone         Load\n",
      "35 2006-02-07 11:00:00  CAPITL  1429.100000\n",
      "36 2006-02-07 12:00:00  CAPITL  1417.400000\n",
      "37 2006-02-07 13:00:00  CAPITL  1415.358889\n",
      "38 2006-02-07 14:00:00  CAPITL  1413.317778\n",
      "39 2006-02-07 15:00:00  CAPITL  1411.276667\n"
     ]
    }
   ],
   "source": [
    "# check 1 zone for loops\n",
    "zone = 'CAPITL'\n",
    "load_zone = load.loc[load['Zone'] == zone,]  # 142404\n",
    "print(load_zone.shape)\n",
    "result = pd.merge(hours_df, load_zone, on='Date', how='left')\n",
    "result['Zone'] = zone\n",
    "print(result.shape)\n",
    "print(result['Load'].isna().sum())\n",
    "print(result[result['Load'].isna()])\n",
    "result['Load'].interpolate(method='linear', inplace=True)\n",
    "print(result['Load'].isna().sum())\n",
    "print(result.iloc[35:40,])"
   ]
  },
  {
   "cell_type": "code",
   "execution_count": 51,
   "metadata": {},
   "outputs": [],
   "source": [
    "zones = load['Zone'].unique()\n",
    "\n",
    "load_impute = pd.DataFrame()\n",
    "for zone in zones:\n",
    "\n",
    "    # one zone in one loop\n",
    "    load_zone = load.loc[load['Zone'] == zone,]\n",
    "\n",
    "    # merge to hourly hours\n",
    "    result = pd.merge(hours_df, load_zone, on='Date', how='left')\n",
    "    result['Zone'] = zone\n",
    "\n",
    "    # imputation\n",
    "    result['Load'].interpolate(method='linear', inplace=True)\n",
    "\n",
    "    load_impute = pd.concat([load_impute, \n",
    "                             result], \n",
    "                            axis=0)\n",
    "    \n"
   ]
  },
  {
   "cell_type": "code",
   "execution_count": 98,
   "metadata": {},
   "outputs": [
    {
     "name": "stdout",
     "output_type": "stream",
     "text": [
      "1700127\n",
      "(1700127, 3)\n"
     ]
    },
    {
     "data": {
      "text/plain": [
       "array(['CAPITL', 'CENTRL', 'DUNWOD', 'GENESE', 'HUD VL', 'LONGIL',\n",
       "       'MHK VL', 'MILLWD', 'N.Y.C.', 'NORTH', 'WEST'], dtype=object)"
      ]
     },
     "execution_count": 98,
     "metadata": {},
     "output_type": "execute_result"
    }
   ],
   "source": [
    "print(hours_df.shape[0]*11)\n",
    "print(load_impute.shape)\n",
    "zones"
   ]
  },
  {
   "cell_type": "markdown",
   "metadata": {},
   "source": [
    "# pd to np array"
   ]
  },
  {
   "cell_type": "code",
   "execution_count": 57,
   "metadata": {},
   "outputs": [],
   "source": [
    "load = load_impute\n",
    "# 使用 pd.date_range 生成日期序列 '2006-02-06' to '2023-09-17'\n",
    "days = pd.date_range(start = load['Date'].min(), \n",
    "                     end = load['Date'].max() - pd.Timedelta(days=7), \n",
    "                     freq = '1D') \n"
   ]
  },
  {
   "cell_type": "code",
   "execution_count": 72,
   "metadata": {},
   "outputs": [
    {
     "data": {
      "text/plain": [
       "array([[[6.92044275e-310, 6.92044275e-310, 4.64262870e-310, ...,\n",
       "         1.45769922e+003, 6.92035543e-310, 1.42909961e+003],\n",
       "        [1.41740000e+003, 8.48798317e-314, 3.60739285e-313, ...,\n",
       "         2.28979883e+003, 4.64262870e-310, 2.32459961e+003],\n",
       "        [4.64262870e-310, 2.27312500e+003, 4.64262870e-310, ...,\n",
       "         7.90199707e+002, 0.00000000e+000, 7.86000000e+002],\n",
       "        ...,\n",
       "        [2.92800000e+002, 2.92721667e+002, 2.92643333e+002, ...,\n",
       "         6.48850000e+003, 6.58510000e+003, 6.61960000e+003],\n",
       "        [6.60340000e+003, 6.59379333e+003, 6.58418667e+003, ...,\n",
       "         8.16700000e+002, 8.04900000e+002, 8.02400000e+002],\n",
       "        [7.91000000e+002, 7.90738889e+002, 7.90477778e+002, ...,\n",
       "         2.12900000e+003, 2.13630000e+003, 2.13220000e+003]]])"
      ]
     },
     "execution_count": 72,
     "metadata": {},
     "output_type": "execute_result"
    }
   ],
   "source": [
    "load_array = np.empty((1, 11, 168))\n",
    "load_array"
   ]
  },
  {
   "cell_type": "code",
   "execution_count": 77,
   "metadata": {},
   "outputs": [],
   "source": [
    "dim = (1, 11, 168)\n",
    "load_array = np.empty(dim)\n",
    "for day in days:\n",
    "    # 挑選 7 天資料\n",
    "    start_date = pd.to_datetime(day)\n",
    "    \n",
    "    end_date = start_date + pd.Timedelta(days=7)\n",
    "    \n",
    "    selected_data = load.loc[(load['Date'] >= start_date) & (load['Date'] < end_date),:]\n",
    "    \n",
    "    # df -> numpy array [obs(number of loops) = 6433, channel(number of zones) = 11, length(number of hours) = 168]\n",
    "    pivot_df = selected_data.pivot(index='Zone', columns='Date', values='Load') \n",
    "    pivot_np = pivot_df.to_numpy() # (zone, Date)\n",
    "\n",
    "    pivot_np = pivot_np.reshape(dim) # (1,11,168)\n",
    "    load_array = np.concatenate((load_array, pivot_np), axis=0)\n",
    "\n",
    "load_array = load_array[1:] # delete the 1 st slice created by np.empty(dim)"
   ]
  },
  {
   "cell_type": "code",
   "execution_count": 104,
   "metadata": {},
   "outputs": [
    {
     "name": "stdout",
     "output_type": "stream",
     "text": [
      "(6433,)\n",
      "(6433, 11, 168)\n"
     ]
    }
   ],
   "source": [
    "print(days.shape)\n",
    "print(load_array.shape)"
   ]
  },
  {
   "cell_type": "code",
   "execution_count": 105,
   "metadata": {},
   "outputs": [],
   "source": [
    "np.save('load_array.npy', load_array)"
   ]
  },
  {
   "cell_type": "code",
   "execution_count": 101,
   "metadata": {},
   "outputs": [
    {
     "name": "stdout",
     "output_type": "stream",
     "text": [
      "0    995.6\n",
      "Name: Load, dtype: float64\n",
      "995.6\n",
      "264    1067.3\n",
      "Name: Load, dtype: float64\n",
      "1067.3\n",
      "1564344    1036.491\n",
      "Name: Load, dtype: float64\n",
      "1036.491\n"
     ]
    }
   ],
   "source": [
    "# check the 1st dimension\n",
    "print(load['Load'][(load['Date'] == '2006-02-06 00:00:00') & (load['Zone'] == 'CAPITL')]) # 995.6000\n",
    "print(load_array[0,0,0])\n",
    "print(load['Load'][(load['Date'] == '2006-02-07 00:00:00') & (load['Zone'] == 'CAPITL')])\n",
    "print(load_array[1,0,0])\t\t\n",
    "print(load['Load'][(load['Date'] == '2023-09-17 00:00:00') & (load['Zone'] == 'CAPITL')])\n",
    "print(load_array[-1,0,0])\t"
   ]
  },
  {
   "cell_type": "code",
   "execution_count": 103,
   "metadata": {},
   "outputs": [
    {
     "name": "stdout",
     "output_type": "stream",
     "text": [
      "0    995.6\n",
      "Name: Load, dtype: float64\n",
      "995.6\n",
      "1    1767.1\n",
      "Name: Load, dtype: float64\n",
      "1767.1\n",
      "10    1660.0\n",
      "Name: Load, dtype: float64\n",
      "1660.0\n",
      "1564344    1036.491\n",
      "Name: Load, dtype: float64\n",
      "1036.491\n",
      "1564345    1363.9602\n",
      "Name: Load, dtype: float64\n",
      "1363.9602\n",
      "1564354    1376.1895\n",
      "Name: Load, dtype: float64\n",
      "1376.1895\n"
     ]
    }
   ],
   "source": [
    "# check the 2nd dimension\n",
    "print(load['Load'][(load['Date'] == '2006-02-06 00:00:00') & (load['Zone'] == 'CAPITL')]) # 995.6000\n",
    "print(load_array[0,0,0])\n",
    "print(load['Load'][(load['Date'] == '2006-02-06 00:00:00') & (load['Zone'] == 'CENTRL')])\n",
    "print(load_array[0,1,0])\t\n",
    "print(load['Load'][(load['Date'] == '2006-02-06 00:00:00') & (load['Zone'] == 'WEST')])\n",
    "print(load_array[0,10,0])\t\n",
    "\n",
    "\n",
    "print(load['Load'][(load['Date'] == '2023-09-17 00:00:00') & (load['Zone'] == 'CAPITL')]) # 995.6000\n",
    "print(load_array[-1,0,0])\n",
    "print(load['Load'][(load['Date'] == '2023-09-17 00:00:00') & (load['Zone'] == 'CENTRL')])\n",
    "print(load_array[-1,1,0])\t\n",
    "print(load['Load'][(load['Date'] == '2023-09-17 00:00:00') & (load['Zone'] == 'WEST')])\n",
    "print(load_array[-1,10,0])\t"
   ]
  },
  {
   "cell_type": "code",
   "execution_count": null,
   "metadata": {},
   "outputs": [],
   "source": []
  }
 ],
 "metadata": {
  "kernelspec": {
   "display_name": "pt_fan",
   "language": "python",
   "name": "python3"
  },
  "language_info": {
   "codemirror_mode": {
    "name": "ipython",
    "version": 3
   },
   "file_extension": ".py",
   "mimetype": "text/x-python",
   "name": "python",
   "nbconvert_exporter": "python",
   "pygments_lexer": "ipython3",
   "version": "3.9.7"
  },
  "orig_nbformat": 4
 },
 "nbformat": 4,
 "nbformat_minor": 2
}
